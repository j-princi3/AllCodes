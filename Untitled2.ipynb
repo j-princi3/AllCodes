{
 "cells": [
  {
   "cell_type": "code",
   "execution_count": 5,
   "id": "db5416a8",
   "metadata": {},
   "outputs": [
    {
     "name": "stdout",
     "output_type": "stream",
     "text": [
      "75\n",
      "3\n",
      "5\n"
     ]
    }
   ],
   "source": [
    "def prime(n):\n",
    "    for i in range(2,n):\n",
    "        if n%i==0:\n",
    "            return 'False'\n",
    "    return 'True'\n",
    "def primefac(num):\n",
    "    for j in range (2,num+1):\n",
    "        if num%j==0 and prime(j)=='True':\n",
    "            print(j)\n",
    "num=int(input())\n",
    "primefac(num)\n",
    "#2d,3b,3c,6b,5b"
   ]
  },
  {
   "cell_type": "code",
   "execution_count": 18,
   "id": "82372823",
   "metadata": {},
   "outputs": [
    {
     "name": "stdout",
     "output_type": "stream",
     "text": [
      "Invalid output\n"
     ]
    }
   ],
   "source": [
    "def check(password):\n",
    "    if not (len(password)>=6 and len(password)<=15):\n",
    "        print(\"Invalid password\")\n",
    "    else:\n",
    "        num=spec=cap=0\n",
    "        for i in password:\n",
    "            if ord(i) >=48 and ord(i)<=57:\n",
    "                num=1\n",
    "            elif ord(i)>=65 and ord(i)<=90:\n",
    "                cap=1\n",
    "            elif i in ['*','@','#']:\n",
    "                spec=1\n",
    "            else:\n",
    "                cap=0\n",
    "        if num==1 and spec==1 and cap==1:\n",
    "            print(\"valid output\")\n",
    "        else:\n",
    "            print(\"Invalid output\")\n",
    "password='princiJ1'\n",
    "check(password)"
   ]
  },
  {
   "cell_type": "code",
   "execution_count": 9,
   "id": "1e37600b",
   "metadata": {},
   "outputs": [
    {
     "name": "stdout",
     "output_type": "stream",
     "text": [
      "48 57\n"
     ]
    }
   ],
   "source": [
    "print(ord('0'),ord('9'))"
   ]
  },
  {
   "cell_type": "code",
   "execution_count": 22,
   "id": "088fc612",
   "metadata": {},
   "outputs": [
    {
     "name": "stdout",
     "output_type": "stream",
     "text": [
      "Enter the elements seperated by space5 6 4 4\n"
     ]
    }
   ],
   "source": [
    "arr = [int(x) for x in input(\"Enter the elements seperated by space\").split()]"
   ]
  },
  {
   "cell_type": "code",
   "execution_count": 25,
   "id": "d5ab9f12",
   "metadata": {},
   "outputs": [
    {
     "name": "stdout",
     "output_type": "stream",
     "text": [
      "5 6 6 4 7 8\n",
      "[5, 6, 6, 4, 7, 8]\n"
     ]
    }
   ],
   "source": [
    "list1=list(map(int,input().split()))\n",
    "print(list1)"
   ]
  },
  {
   "cell_type": "code",
   "execution_count": 26,
   "id": "0c7a84af",
   "metadata": {},
   "outputs": [
    {
     "name": "stdout",
     "output_type": "stream",
     "text": [
      "rows:3\n",
      "4 5 6\n",
      "1 3 4\n",
      "4 5 6\n",
      "[[4, 0, 0], [1, 3, 0], [4, 5, 6]]\n"
     ]
    }
   ],
   "source": [
    "mat=[]\n",
    "i=int(input(\"rows:\"))\n",
    "for j in range(1,i+1):\n",
    "    l=list(map(int,input().split()))\n",
    "    mat.append(l)\n",
    "for a in range (0,i):\n",
    "    for b in range (0,i):\n",
    "        if a<b:\n",
    "            mat[a][b]=0\n",
    "print(mat)"
   ]
  },
  {
   "cell_type": "code",
   "execution_count": 1,
   "id": "13762abb",
   "metadata": {},
   "outputs": [
    {
     "name": "stdout",
     "output_type": "stream",
     "text": [
      "Enter a number: 35\n",
      "Yes, 35 can be expressed as the sum of two semi-primes.\n"
     ]
    }
   ],
   "source": [
    "def is_semi_prime(n):\n",
    "    factors = []\n",
    "    i = 2\n",
    "    while len(factors) < 2 and i * i <= n:\n",
    "        if n % i == 0:\n",
    "            factors.append(i)\n",
    "            n //= i\n",
    "        else:\n",
    "            i += 1\n",
    "\n",
    "    if len(factors) == 1 and n != 1:\n",
    "        factors.append(n)\n",
    "\n",
    "    return len(factors) == 2\n",
    "\n",
    "\n",
    "def is_sum_of_semi_primes(n):\n",
    "    for i in range(2, n):\n",
    "        if is_semi_prime(i) and is_semi_prime(n - i):\n",
    "            return True\n",
    "    return False\n",
    "\n",
    "\n",
    "# Test the function\n",
    "number = int(input(\"Enter a number: \"))\n",
    "if is_sum_of_semi_primes(number):\n",
    "    print(f\"Yes, {number} can be expressed as the sum of two semi-primes.\")\n",
    "else:\n",
    "    print(f\"No, {number} cannot be expressed as the sum of two semi-primes.\")\n"
   ]
  },
  {
   "cell_type": "code",
   "execution_count": 2,
   "id": "434f1466",
   "metadata": {},
   "outputs": [
    {
     "name": "stdout",
     "output_type": "stream",
     "text": [
      "['apple']\n"
     ]
    }
   ],
   "source": [
    "fruits = [\"apple\", \"banana\", \"cherry\", \"kiwi\", \"mango\"]\n",
    "newlist = [x for x in fruits if \"apple\" in x]\n",
    "print(newlist)"
   ]
  },
  {
   "cell_type": "code",
   "execution_count": 5,
   "id": "5517984c",
   "metadata": {},
   "outputs": [
    {
     "data": {
      "text/plain": [
       "[5, 12, 14]"
      ]
     },
     "execution_count": 5,
     "metadata": {},
     "output_type": "execute_result"
    }
   ],
   "source": [
    "num1 = [2, 4, 9]\n",
    "num2 = [3, 8, 5]\n",
    "result = list(map(lambda x, y: x + y, num1, num2))\n",
    "result"
   ]
  },
  {
   "cell_type": "code",
   "execution_count": 4,
   "id": "5e13aa59",
   "metadata": {},
   "outputs": [
    {
     "name": "stdout",
     "output_type": "stream",
     "text": [
      "0\n",
      "2\n",
      "4\n",
      "6\n"
     ]
    }
   ],
   "source": [
    "for i in range(0,7,2):\n",
    "    print(i)"
   ]
  },
  {
   "cell_type": "code",
   "execution_count": 2,
   "id": "a395df6a",
   "metadata": {},
   "outputs": [
    {
     "name": "stdout",
     "output_type": "stream",
     "text": [
      "1\n",
      "[Matrix([\n",
      "[  2],\n",
      "[3/2],\n",
      "[  1]])]\n",
      "2\n",
      "[Matrix([\n",
      "[3],\n",
      "[2],\n",
      "[1]])]\n",
      "3\n",
      "[Matrix([\n",
      "[2],\n",
      "[1],\n",
      "[1]])]\n"
     ]
    }
   ],
   "source": [
    "# import numpy as ny\n",
    "# from scipy import linalg as lg\n",
    "# a=ny.array([[1,2],[3,4]])\n",
    "# b=ny.array([2,3])\n",
    "# t=ny.trace(a)\n",
    "# d=lg.det(a)\n",
    "# rank=ny.linalg.matrix_rank(a)\n",
    "# inverse=ny.linalg.inv(a)\n",
    "# s=lg.solve(a,b)\n",
    "# print(t)\n",
    "# print(d)\n",
    "# print(inverse)\n",
    "# print(rank)\n",
    "# print(s)\n",
    "\n",
    "import sympy as sy\n",
    "a=sy.Matrix([[8,-8,-2],[4,-3,-2],[3,-4,1]])\n",
    "e=a.eigenvects()\n",
    "for i in range(0,3):\n",
    "    print(e[i][0])\n",
    "    print(e[i][2])"
   ]
  },
  {
   "cell_type": "code",
   "execution_count": 4,
   "id": "64181bd3",
   "metadata": {},
   "outputs": [
    {
     "name": "stdout",
     "output_type": "stream",
     "text": [
      "Is key named first_name present? Yes"
     ]
    }
   ],
   "source": [
    "def checking(n):\n",
    "    if n in dic:\n",
    "        return \"Yes\"\n",
    "    else:\n",
    "        return \"No\"\n",
    "n=\"first_name\"\n",
    "dic={\"first_name\":\"l\"}\n",
    "print(f\"Is key named {n} present?\",checking(n),end=\"\")"
   ]
  },
  {
   "cell_type": "code",
   "execution_count": null,
   "id": "2ed07b28",
   "metadata": {},
   "outputs": [],
   "source": []
  }
 ],
 "metadata": {
  "kernelspec": {
   "display_name": "Python 3 (ipykernel)",
   "language": "python",
   "name": "python3"
  },
  "language_info": {
   "codemirror_mode": {
    "name": "ipython",
    "version": 3
   },
   "file_extension": ".py",
   "mimetype": "text/x-python",
   "name": "python",
   "nbconvert_exporter": "python",
   "pygments_lexer": "ipython3",
   "version": "3.10.9"
  }
 },
 "nbformat": 4,
 "nbformat_minor": 5
}
