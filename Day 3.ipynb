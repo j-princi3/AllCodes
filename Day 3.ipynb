{
 "cells": [
  {
   "cell_type": "code",
   "execution_count": 20,
   "id": "53a56709",
   "metadata": {
    "scrolled": false
   },
   "outputs": [
    {
     "name": "stdout",
     "output_type": "stream",
     "text": [
      "Write a sentence :princi jain\n",
      "i\n",
      "in\n",
      "inc\n",
      "inci\n",
      "i\n",
      "a\n",
      "ai\n",
      "ain\n",
      "i\n",
      "in\n"
     ]
    }
   ],
   "source": [
    "sent=input(\"Write a sentence :\")\n",
    "sent=sent.lower()\n",
    "k=0\n",
    "for i in range(k,len(sent)):\n",
    "    x=sent[i]\n",
    "    if 'a'==x or 'e'==x or 'i'==x or 'o'==x or 'u'==x:\n",
    "        for j in range (i,len(sent)):\n",
    "            if sent[j] != ' ':\n",
    "                print(sent[i:j+1])\n",
    "            else :\n",
    "                k=j+1\n",
    "                break"
   ]
  },
  {
   "cell_type": "code",
   "execution_count": null,
   "id": "64b2901d",
   "metadata": {},
   "outputs": [],
   "source": []
  },
  {
   "cell_type": "code",
   "execution_count": null,
   "id": "5c29a05f",
   "metadata": {},
   "outputs": [],
   "source": []
  }
 ],
 "metadata": {
  "kernelspec": {
   "display_name": "Python 3 (ipykernel)",
   "language": "python",
   "name": "python3"
  },
  "language_info": {
   "codemirror_mode": {
    "name": "ipython",
    "version": 3
   },
   "file_extension": ".py",
   "mimetype": "text/x-python",
   "name": "python",
   "nbconvert_exporter": "python",
   "pygments_lexer": "ipython3",
   "version": "3.10.9"
  }
 },
 "nbformat": 4,
 "nbformat_minor": 5
}
