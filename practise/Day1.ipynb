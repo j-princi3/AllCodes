{
 "cells": [
  {
   "cell_type": "code",
   "execution_count": 8,
   "id": "46b54ca6",
   "metadata": {},
   "outputs": [
    {
     "name": "stdout",
     "output_type": "stream",
     "text": [
      "Enter a number for factorial:5\n",
      "120\n"
     ]
    }
   ],
   "source": [
    "num=input(\"Enter a number for factorial:\")\n",
    "num=int(num)\n",
    "i=1\n",
    "p=1\n",
    "while i<=num:\n",
    "    p=p*i\n",
    "    i+=1\n",
    "print(p)"
   ]
  },
  {
   "cell_type": "code",
   "execution_count": 17,
   "id": "79be60e6",
   "metadata": {},
   "outputs": [
    {
     "name": "stdout",
     "output_type": "stream",
     "text": [
      "Enter a number:7895\n",
      "Sum of odd digits 8\n",
      "Sum of even digits 21\n"
     ]
    }
   ],
   "source": [
    "num=input(\"Enter a number:\")\n",
    "num=int(num)\n",
    "i=1\n",
    "even=0\n",
    "odd=0\n",
    "even=int(even)\n",
    "odd=int(odd)\n",
    "while num>0:\n",
    "    r=num%10\n",
    "    if r%2==0:\n",
    "        even=even+r\n",
    "    else :\n",
    "        odd=odd+r\n",
    "    num=num//10\n",
    "print(\"Sum of odd digits\",even)\n",
    "print(\"Sum of even digits\",odd)"
   ]
  },
  {
   "cell_type": "code",
   "execution_count": 27,
   "id": "9fad57be",
   "metadata": {},
   "outputs": [
    {
     "name": "stdout",
     "output_type": "stream",
     "text": [
      "Enter a number:21\n",
      "3\n",
      "5\n",
      "7\n",
      "11\n",
      "13\n",
      "17\n",
      "19\n"
     ]
    }
   ],
   "source": [
    "num=int(input(\"Enter a number:\"))\n",
    "for i in range(3,num+1):\n",
    "    flag=0\n",
    "    for a in range(2,i):\n",
    "        if i % a == 0 :\n",
    "            flag=1\n",
    "            break;\n",
    "    if flag==0:\n",
    "        print(i)"
   ]
  },
  {
   "cell_type": "code",
   "execution_count": 13,
   "id": "7a6148e3",
   "metadata": {},
   "outputs": [
    {
     "name": "stdout",
     "output_type": "stream",
     "text": [
      "Enter a number:12\n",
      "{0: 0}\n",
      "0{0: 0}\n",
      "0{0: 1}\n",
      "1{0: 1}\n",
      "1"
     ]
    }
   ],
   "source": [
    "num=int(input(\"Enter a number:\"))\n",
    "binary={}\n",
    "i=0\n",
    "while num>0:\n",
    "    if num%2==0 :\n",
    "        binary[i]=0\n",
    "    else :\n",
    "        binary[i]=1\n",
    "    i=i+1\n",
    "    num=num//2\n",
    "    for i in range(0,i):\n",
    "        print(binary[i],end=\"\")"
   ]
  },
  {
   "cell_type": "code",
   "execution_count": null,
   "id": "45ef56b5",
   "metadata": {},
   "outputs": [],
   "source": []
  }
 ],
 "metadata": {
  "kernelspec": {
   "display_name": "Python 3 (ipykernel)",
   "language": "python",
   "name": "python3"
  },
  "language_info": {
   "codemirror_mode": {
    "name": "ipython",
    "version": 3
   },
   "file_extension": ".py",
   "mimetype": "text/x-python",
   "name": "python",
   "nbconvert_exporter": "python",
   "pygments_lexer": "ipython3",
   "version": "3.10.9"
  }
 },
 "nbformat": 4,
 "nbformat_minor": 5
}
