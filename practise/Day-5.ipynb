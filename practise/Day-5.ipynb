{
 "cells": [
  {
   "cell_type": "code",
   "execution_count": 5,
   "id": "a5fd9cc6",
   "metadata": {},
   "outputs": [
    {
     "name": "stdout",
     "output_type": "stream",
     "text": [
      "Enter a string: welcome to python programming python is wonderful programming language\n",
      "welcome - 2\n",
      "to - 1\n",
      "python - 1\n",
      "programming - 3\n",
      "python - 1\n",
      "is - 1\n",
      "wonderful - 3\n",
      "programming - 3\n",
      "language - 3\n"
     ]
    }
   ],
   "source": [
    "def Vowelcounter(text):\n",
    "    vowel=0 \n",
    "    vowels=['a','e','i','o','u']\n",
    "    for i in text:\n",
    "        if i in vowels:\n",
    "            vowel+=1\n",
    "            vowels.remove(i)\n",
    "    return vowel\n",
    "text=input(\"Enter a string: \")\n",
    "l=len(text)\n",
    "list=text.split()\n",
    "l=len(list)\n",
    "vowels=[]\n",
    "for i in range (0,l):\n",
    "    vowels.append(Vowelcounter(list[i]))\n",
    "for i in range(0,l):\n",
    "    print(list[i],\"-\",vowels[i])"
   ]
  },
  {
   "cell_type": "code",
   "execution_count": 12,
   "id": "a4a65968",
   "metadata": {},
   "outputs": [
    {
     "name": "stdout",
     "output_type": "stream",
     "text": [
      "Enter word:abbababaaabbba\n",
      "abb -No\n",
      "bba -No\n",
      "bab -Yes\n",
      "aba -Yes\n",
      "bab -Yes\n",
      "aba -Yes\n",
      "baa -No\n",
      "aaa -Yes\n",
      "aab -No\n",
      "abb -No\n",
      "bbb -Yes\n",
      "bba -No\n"
     ]
    }
   ],
   "source": [
    "word=input(\"Enter word:\")\n",
    "for i in range(0,len(word)-2):\n",
    "    s=[]\n",
    "    for j in range(i,i+3):\n",
    "        s.append(word[j])\n",
    "    for k in range(0,3): \n",
    "        print(s[k],end=\"\")\n",
    "    if s[0]==s[2] :\n",
    "        print(\" -Yes\")\n",
    "    else :\n",
    "        print(\" -No\")"
   ]
  },
  {
   "cell_type": "code",
   "execution_count": null,
   "id": "6da302de",
   "metadata": {},
   "outputs": [],
   "source": []
  }
 ],
 "metadata": {
  "kernelspec": {
   "display_name": "Python 3 (ipykernel)",
   "language": "python",
   "name": "python3"
  },
  "language_info": {
   "codemirror_mode": {
    "name": "ipython",
    "version": 3
   },
   "file_extension": ".py",
   "mimetype": "text/x-python",
   "name": "python",
   "nbconvert_exporter": "python",
   "pygments_lexer": "ipython3",
   "version": "3.10.9"
  }
 },
 "nbformat": 4,
 "nbformat_minor": 5
}
