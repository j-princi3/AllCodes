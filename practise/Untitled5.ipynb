{
 "cells": [
  {
   "cell_type": "code",
   "execution_count": 1,
   "id": "8ec548bc",
   "metadata": {},
   "outputs": [
    {
     "name": "stdout",
     "output_type": "stream",
     "text": [
      "x**2+y**2*z\n",
      "Gradient = [2*x 2*y*z y**2]\n"
     ]
    }
   ],
   "source": [
    "from sympy import *\n",
    "from numpy import array\n",
    "x,y,z=symbols(\"x,y,z\")\n",
    "f=input()\n",
    "dx=diff(f,x)\n",
    "dy=diff(f,y)\n",
    "dz=diff(f,z)\n",
    "grad=array([dx,dy,dz])\n",
    "print(\"Gradient =\",grad)"
   ]
  },
  {
   "cell_type": "code",
   "execution_count": 4,
   "id": "90f543ed",
   "metadata": {},
   "outputs": [
    {
     "name": "stdout",
     "output_type": "stream",
     "text": [
      "Give the functions u,v,w in seperate lines\n",
      "x**2\n",
      "y**2\n",
      "z\n",
      "Matrix([[2*x, 0, 0], [0, 2*y, 0], [0, 0, 1]])\n",
      "The Jacobian of u,v,w wrt x,y,z is 4*x*y\n"
     ]
    }
   ],
   "source": [
    "from sympy import *\n",
    "import numpy as np\n",
    "x,y,z=symbols('x y z')\n",
    "print(\"Give the functions u,v,w in seperate lines\")\n",
    "f1=input()\n",
    "f2=input()\n",
    "f3=input()\n",
    "ux=diff(f1,x)\n",
    "uy=diff(f1,y)\n",
    "uz=diff(f1,z)\n",
    "vx=diff(f2,x)\n",
    "vy=diff(f2,y)\n",
    "vz=diff(f2,z)\n",
    "wx=diff(f3,x)\n",
    "wy=diff(f3,y)\n",
    "wz=diff(f3,z)\n",
    "result=Matrix([[ux,uy,uz],[vx,vy,vz],[wx,wy,wz]])\n",
    "print(result)\n",
    "print(\"The Jacobian of u,v,w wrt x,y,z is\",result.det())\n"
   ]
  },
  {
   "cell_type": "code",
   "execution_count": null,
   "id": "bedd699d",
   "metadata": {},
   "outputs": [],
   "source": []
  }
 ],
 "metadata": {
  "kernelspec": {
   "display_name": "Python 3 (ipykernel)",
   "language": "python",
   "name": "python3"
  },
  "language_info": {
   "codemirror_mode": {
    "name": "ipython",
    "version": 3
   },
   "file_extension": ".py",
   "mimetype": "text/x-python",
   "name": "python",
   "nbconvert_exporter": "python",
   "pygments_lexer": "ipython3",
   "version": "3.10.9"
  }
 },
 "nbformat": 4,
 "nbformat_minor": 5
}
