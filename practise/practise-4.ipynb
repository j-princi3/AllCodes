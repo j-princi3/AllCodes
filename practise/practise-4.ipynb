{
 "cells": [
  {
   "cell_type": "code",
   "execution_count": 21,
   "id": "f669bc47",
   "metadata": {},
   "outputs": [
    {
     "name": "stdout",
     "output_type": "stream",
     "text": [
      "[1, 3, 3, 5, 6, 10]\n"
     ]
    }
   ],
   "source": [
    "def merge(num1,num2,m,n):\n",
    "    if m+n == len(num1):\n",
    "        i=0\n",
    "        while i<len(nums1):\n",
    "            j=0\n",
    "            while j<len(num2):\n",
    "                if num1[i]>=num2[j]:\n",
    "                    num1.insert(i,num2[j])\n",
    "                    num1.remove(0)\n",
    "                    num2.remove(num2[j])\n",
    "                    i=i+1\n",
    "                    break\n",
    "                j=j+1\n",
    "            i=i+1\n",
    "        if len(num2)!=0:\n",
    "            for k in range (0,len(num2)):\n",
    "                num1.append(num2[k])\n",
    "                num1.remove(0)\n",
    "    return num1\n",
    "nums1 = [1,3,5,0,0,0,]\n",
    "m = 3\n",
    "nums2 = [3,6,10]\n",
    "n = 3\n",
    "# nums1 = [1]\n",
    "# m = 1\n",
    "# nums2 = []\n",
    "# n = 0\n",
    "# nums1 = [0]\n",
    "# m = 0\n",
    "# nums2 = [1]\n",
    "# n = 1\n",
    "print(merge(nums1,nums2,m,n))"
   ]
  },
  {
   "cell_type": "code",
   "execution_count": 11,
   "id": "e335bb1b",
   "metadata": {},
   "outputs": [
    {
     "name": "stdout",
     "output_type": "stream",
     "text": [
      "[1, 3, 7]\n",
      "(1, 7)\n"
     ]
    }
   ],
   "source": [
    "test_tup = (3,1,7)\n",
    "k=1 \n",
    "new=[]\n",
    "test_tup=sorted(test_tup)\n",
    "print(test_tup)\n",
    "i=0\n",
    "while i<len(test_tup):\n",
    "    if i<k :\n",
    "        new.append(test_tup[i])\n",
    "        new.append(test_tup[len(test_tup)-i-1])\n",
    "    i+=1\n",
    "new=sorted(new)\n",
    "new=tuple(new)\n",
    "print(new)"
   ]
  },
  {
   "cell_type": "code",
   "execution_count": 13,
   "id": "b99eb23c",
   "metadata": {},
   "outputs": [
    {
     "data": {
      "text/plain": [
       "11"
      ]
     },
     "execution_count": 13,
     "metadata": {},
     "output_type": "execute_result"
    }
   ],
   "source": [
    "def tup(pp):\n",
    "    sum=0\n",
    "    for i in range(0,len(pp)):\n",
    "        sum=sum+pp[i]\n",
    "    return sum\n",
    "pp=(3,1,7)\n",
    "tup(pp)"
   ]
  },
  {
   "cell_type": "code",
   "execution_count": 12,
   "id": "c5005690",
   "metadata": {},
   "outputs": [
    {
     "name": "stdout",
     "output_type": "stream",
     "text": [
      "[(9, 729), (2, 8), (3, 27)]\n"
     ]
    }
   ],
   "source": [
    "lists = [9, 2, 3]\n",
    "for i in range (len(lists)):\n",
    "    row=[]\n",
    "    row.append(lists[i])\n",
    "    row.append(lists[i]*lists[i]*lists[i])\n",
    "    row=tuple(row)\n",
    "    lists[i]=row\n",
    "print(lists)"
   ]
  },
  {
   "cell_type": "code",
   "execution_count": 6,
   "id": "d115ee34",
   "metadata": {},
   "outputs": [
    {
     "name": "stdout",
     "output_type": "stream",
     "text": [
      "[(7, 8), [3, 4], [5, 6]]\n"
     ]
    }
   ],
   "source": [
    "l=[[1,2],[3,4],[5,6]]\n",
    "l[0]=(7,8)\n",
    "print(l)"
   ]
  },
  {
   "cell_type": "code",
   "execution_count": 27,
   "id": "7f6f37ea",
   "metadata": {},
   "outputs": [
    {
     "name": "stdout",
     "output_type": "stream",
     "text": [
      "No of unique items are: 5\n"
     ]
    }
   ],
   "source": [
    "\n",
    "# taking an input list\n",
    "input_list =  [1, 2, 2, 5,5,5, 8, 4, 4, 8]\n",
    "# taking an input list\n",
    "l1 = []\n",
    " \n",
    "# taking an counter\n",
    "count = 0\n",
    " \n",
    "# traversing the array\n",
    "for item in input_list:\n",
    "    if item not in l1:\n",
    "        count += 1\n",
    "        l1.append(item)\n",
    " \n",
    "# printing the output\n",
    "print(\"No of unique items are:\", count)"
   ]
  },
  {
   "cell_type": "code",
   "execution_count": null,
   "id": "2b8e4a00",
   "metadata": {},
   "outputs": [],
   "source": []
  }
 ],
 "metadata": {
  "kernelspec": {
   "display_name": "Python 3 (ipykernel)",
   "language": "python",
   "name": "python3"
  },
  "language_info": {
   "codemirror_mode": {
    "name": "ipython",
    "version": 3
   },
   "file_extension": ".py",
   "mimetype": "text/x-python",
   "name": "python",
   "nbconvert_exporter": "python",
   "pygments_lexer": "ipython3",
   "version": "3.10.9"
  }
 },
 "nbformat": 4,
 "nbformat_minor": 5
}
