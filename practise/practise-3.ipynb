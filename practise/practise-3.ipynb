{
 "cells": [
  {
   "cell_type": "code",
   "execution_count": 12,
   "id": "32c430eb",
   "metadata": {},
   "outputs": [
    {
     "name": "stdout",
     "output_type": "stream",
     "text": [
      "5\n"
     ]
    }
   ],
   "source": [
    "def lengthOfLastWord(s):\n",
    "    rev=[]\n",
    "    rev1=[]\n",
    "    i=len(s)-1\n",
    "    while i>=0:\n",
    "        rev.append(s[i])\n",
    "        i=i-1\n",
    "    for j in range (0,len(rev)):\n",
    "        if rev[j]!=\" \":\n",
    "            for a in range (j,len(rev)):\n",
    "                rev1.append(rev[a])\n",
    "            break\n",
    "    for k in range (0,len(rev1)):\n",
    "        if rev1[k]==\" \" :\n",
    "            return k\n",
    "s =\"Hello World\"\n",
    "n=lengthOfLastWord(s)\n",
    "print(n)\n"
   ]
  },
  {
   "cell_type": "code",
   "execution_count": 19,
   "id": "c2b49000",
   "metadata": {},
   "outputs": [
    {
     "name": "stdout",
     "output_type": "stream",
     "text": [
      "[1, 0]\n"
     ]
    }
   ],
   "source": [
    "def plusOne(digits):\n",
    "    new=[]\n",
    "    i=len(digits)-1\n",
    "    while i>=0:\n",
    "        if digits[i]!=9:\n",
    "            digits[i]=digits[i]+1\n",
    "            return digits\n",
    "            break\n",
    "        else :\n",
    "            if i==0:\n",
    "                digits[0]=0\n",
    "                new.append(1)\n",
    "                for j in range (0,len(digits)):\n",
    "                    new.append(digits[j])\n",
    "                return new\n",
    "            else:\n",
    "                digits[i]=0\n",
    "        i=i-1\n",
    "# digits = [8,9, 9, 9]\n",
    "# digits = [1,2,3]\n",
    "# digits = [4,3,2,1]\n",
    "digits = [9]\n",
    "k=plusOne(digits)\n",
    "print(k)"
   ]
  },
  {
   "cell_type": "code",
   "execution_count": 25,
   "id": "0453211c",
   "metadata": {},
   "outputs": [
    {
     "name": "stdout",
     "output_type": "stream",
     "text": [
      "4 7\n",
      "1011\n"
     ]
    }
   ],
   "source": [
    "def addBinary(a, b):\n",
    "    # Convert binary strings to integers\n",
    "    num_a = int(a, 2)\n",
    "    num_b = int(b, 2)\n",
    "    print(num_a,num_b)\n",
    "    # Add the numbers\n",
    "    sum_decimal = num_a + num_b\n",
    "\n",
    "    # Convert the sum back to binary string\n",
    "    sum_binary = bin(sum_decimal)[2:]\n",
    "\n",
    "    return sum_binary\n",
    "a = \"100\"\n",
    "b = \"111\"\n",
    "result = addBinary(a, b)\n",
    "print(result)  # Output: 11001"
   ]
  },
  {
   "cell_type": "code",
   "execution_count": 3,
   "id": "f5fa4240",
   "metadata": {},
   "outputs": [
    {
     "name": "stdout",
     "output_type": "stream",
     "text": [
      "[0, 0, 0, 0, 0, 0]\n",
      "[1, 1, 2, 3, 5, 8]\n",
      "The number of distinct ways to climb 5 steps is: 8\n"
     ]
    }
   ],
   "source": [
    "def climbStairs(n):\n",
    "    # Create a memoization table to store the results\n",
    "    memo = [0] * (n + 1)\n",
    "    print(memo)\n",
    "    # Base cases\n",
    "    memo[0] = 1\n",
    "    memo[1] = 1\n",
    "\n",
    "    # Calculate the number of ways for each step up to n\n",
    "    for i in range(2, n + 1):\n",
    "        memo[i] = memo[i - 1] + memo[i - 2]\n",
    "\n",
    "    # Return the number of ways to reach the top\n",
    "    print(memo)\n",
    "    return memo[n]\n",
    "\n",
    "# Test the function\n",
    "n = 5\n",
    "distinct_ways = climbStairs(n)\n",
    "print(f\"The number of distinct ways to climb {n} steps is: {distinct_ways}\")"
   ]
  },
  {
   "cell_type": "code",
   "execution_count": null,
   "id": "b171aa6f",
   "metadata": {},
   "outputs": [],
   "source": []
  },
  {
   "cell_type": "code",
   "execution_count": null,
   "id": "f0b82fb2",
   "metadata": {},
   "outputs": [],
   "source": []
  }
 ],
 "metadata": {
  "kernelspec": {
   "display_name": "Python 3 (ipykernel)",
   "language": "python",
   "name": "python3"
  },
  "language_info": {
   "codemirror_mode": {
    "name": "ipython",
    "version": 3
   },
   "file_extension": ".py",
   "mimetype": "text/x-python",
   "name": "python",
   "nbconvert_exporter": "python",
   "pygments_lexer": "ipython3",
   "version": "3.10.9"
  }
 },
 "nbformat": 4,
 "nbformat_minor": 5
}
