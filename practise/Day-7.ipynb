{
 "cells": [
  {
   "cell_type": "code",
   "execution_count": 1,
   "id": "a7bf9436",
   "metadata": {},
   "outputs": [
    {
     "name": "stdout",
     "output_type": "stream",
     "text": [
      "List inside the nested list:  ['a', 1]\n",
      "First element of the sublist:  a\n",
      "matrix: \n",
      "[0, 1, 2]\n",
      "[3, 4, 5]\n",
      "[6, 7, 8]\n",
      "[9, 10, 11]\n"
     ]
    }
   ],
   "source": [
    "# creating list\n",
    "nestedList = [1, 2, ['a', 1], 3]\n",
    "\n",
    "# indexing list: the sublist has now been accessed\n",
    "subList = nestedList[2]\n",
    "\n",
    "# access the first element inside the inner list:\n",
    "element = nestedList[2][0]\n",
    "\n",
    "print(\"List inside the nested list: \", subList)\n",
    "print(\"First element of the sublist: \", element)\n",
    "matrix = [[0, 1, 2],\n",
    "          [3, 4, 5],\n",
    "          [6, 7, 8],\n",
    "          [9, 10, 11]]\n",
    "\n",
    "rows = len(matrix)  # no of rows is no of sublists i.e. len of list\n",
    "cols = len(matrix[0])  # no of cols is len of sublist\n",
    "\n",
    "# printing matrix\n",
    "print(\"matrix: \")\n",
    "for i in range(0, rows):\n",
    "    print(matrix[i])\n"
   ]
  },
  {
   "cell_type": "code",
   "execution_count": 9,
   "id": "eaa222a0",
   "metadata": {},
   "outputs": [
    {
     "name": "stdout",
     "output_type": "stream",
     "text": [
      "Enter the length of an array5\n",
      "Enter elements:\n",
      "7\n",
      "8\n",
      "9\n",
      "6\n",
      "7\n",
      "Unsorted array given by user : [7, 8, 9, 6, 7]\n",
      "Sorted array given by user : [6, 7, 7, 8, 9]\n"
     ]
    }
   ],
   "source": [
    "#2 program to sort the elements of an array using bubble sort\n",
    "len=int(input(\"Enter the length of an array\"))\n",
    "def enter(a):\n",
    "    print(\"Enter elements:\")\n",
    "    for i in range(0,len):\n",
    "        s=int(input())\n",
    "        a.append(s)\n",
    "a=[]\n",
    "enter(a)\n",
    "print(\"Unsorted array given by user :\",a)\n",
    "for i in range (0,len-1):\n",
    "    for j in range (i+1,len):\n",
    "        if a[i]>a[j] :\n",
    "            temp=a[i]\n",
    "            a[i]=a[j]\n",
    "            a[j]=temp\n",
    "print(\"Sorted array given by user :\",a)"
   ]
  },
  {
   "cell_type": "code",
   "execution_count": 11,
   "id": "f4ca5b09",
   "metadata": {},
   "outputs": [
    {
     "name": "stdout",
     "output_type": "stream",
     "text": [
      "Enter a sentence: hello how python is wonderful\n",
      "hel how hon won der ful "
     ]
    }
   ],
   "source": [
    "#3.construct a logic to generate combinations where vowel as middle letter in given text. \n",
    "#Example : hello how python is wonderful \n",
    "#Outcome :hel\n",
    "#How ,hon,won,der,ful\n",
    "sent=input(\"Enter a sentence:\")\n",
    "sent=sent.lower()\n",
    "l=len(sent)\n",
    "vowel=['a','e','i','o','u']\n",
    "for i in range (0,l):\n",
    "    for j in vowel:\n",
    "        if j==sent[i] and sent[i-1] != ' 'and sent[i+1] != ' ':\n",
    "            if sent[i-1] !='a' or sent[i-1]!='e' or sent[i-1]!='i' or sent[i-1]!='o' or sent[i-1]!='u' :\n",
    "                if sent[i+1] !='a' or sent[i+1]!='e' or sent[i+1]!='i' or sent[i+1]!='o' or sent[i+1]!='u':\n",
    "                    for k in range (i-1,i+2):\n",
    "                        print(sent[k],end=\"\")\n",
    "                    print(end=\" \")"
   ]
  },
  {
   "cell_type": "code",
   "execution_count": 2,
   "id": "ee2096fc",
   "metadata": {},
   "outputs": [
    {
     "name": "stdout",
     "output_type": "stream",
     "text": [
      "Matrix 1:\n",
      "[1, 2, 3]\n",
      "[4, 5, 6]\n",
      "[7, 8, 9]\n",
      "Matrix 2:\n",
      "[1, 2, 3]\n",
      "[4, 5, 6]\n",
      "[7, 8, 9]\n",
      "Sum :\n",
      "[2, 4, 6]\n",
      "[8, 10, 12]\n",
      "[14, 16, 18]\n",
      "Multiplication:\n",
      "[30, 36, 42]\n",
      "[66, 81, 96]\n",
      "[102, 126, 150]\n"
     ]
    }
   ],
   "source": [
    "#1 Program to add  and multiply two matrices using nested list concept .\n",
    "A=[[1,2,3],[4,5,6],[7,8,9]]\n",
    "B=[[1,2,3],[4,5,6],[7,8,9]]\n",
    "C=[]\n",
    "D=[]\n",
    "row=len(A)\n",
    "col=len(B[0])\n",
    "print(\"Matrix 1:\")\n",
    "for i in range (0,row):\n",
    "        print(A[i])\n",
    "print(\"Matrix 2:\")\n",
    "for i in range (0,row):\n",
    "        print(B[i])\n",
    "# Sum\n",
    "if len(A)==len(B) and len(B[0])==len(A[0]):\n",
    "    for i in range (0,row):\n",
    "        sum=[]\n",
    "        for j in range (0,col):\n",
    "            s=A[i][j]+B[i][j]\n",
    "            sum.append(s)\n",
    "        C.append(sum)\n",
    "    print(\"Sum :\")\n",
    "    for i in range (0,row):\n",
    "        print(C[i])\n",
    "else :\n",
    "    print(\"Matrix is incompatible\")\n",
    "        \n",
    "# Multiplication\n",
    "r1=len(A)\n",
    "r2=len(B)\n",
    "c1=len(A[0])\n",
    "c2=len(B[0])\n",
    "if c1==r2:\n",
    "    for i in range (0,r1):\n",
    "        mul=[]\n",
    "        for j in range (0,c2):\n",
    "            s=0\n",
    "            for k in range (0,r2):\n",
    "                s=s+(A[i][k]*B[k][j])\n",
    "            mul.append(s)\n",
    "        D.append(mul)\n",
    "    print(\"Multiplication:\")\n",
    "    for k in range (0,len(D)) :\n",
    "        print(D[k])\n",
    "else :\n",
    "    print(\"Matrix is incompatible\")"
   ]
  },
  {
   "cell_type": "code",
   "execution_count": null,
   "id": "ffa95e89",
   "metadata": {},
   "outputs": [],
   "source": []
  }
 ],
 "metadata": {
  "kernelspec": {
   "display_name": "Python 3 (ipykernel)",
   "language": "python",
   "name": "python3"
  },
  "language_info": {
   "codemirror_mode": {
    "name": "ipython",
    "version": 3
   },
   "file_extension": ".py",
   "mimetype": "text/x-python",
   "name": "python",
   "nbconvert_exporter": "python",
   "pygments_lexer": "ipython3",
   "version": "3.10.9"
  }
 },
 "nbformat": 4,
 "nbformat_minor": 5
}
