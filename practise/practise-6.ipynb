{
 "cells": [
  {
   "cell_type": "code",
   "execution_count": 4,
   "id": "c4052b59",
   "metadata": {},
   "outputs": [
    {
     "name": "stdout",
     "output_type": "stream",
     "text": [
      "1 2 3\n",
      "1 3 2\n",
      "2 1 3\n",
      "2 3 1\n",
      "3 1 2\n",
      "3 2 1\n"
     ]
    }
   ],
   "source": [
    "# Input: [1, 2, 3]\n",
    "# Output:\n",
    "# 1 2 3\n",
    "# 1 3 2\n",
    "# 2 1 3\n",
    "# 2 3 1\n",
    "# 3 1 2\n",
    "# 3 2 1\n",
    "def comb(L):\n",
    "      \n",
    "    for i in range(3):\n",
    "        for j in range(3):\n",
    "            for k in range(3):\n",
    "                  \n",
    "                # check if the indexes are not\n",
    "                # same\n",
    "                if (i!=j and j!=k and i!=k):\n",
    "                    print(L[i], L[j], L[k])\n",
    "                      \n",
    "# Driver Code\n",
    "comb([1, 2, 3])"
   ]
  },
  {
   "cell_type": "code",
   "execution_count": 19,
   "id": "b2aba2f3",
   "metadata": {},
   "outputs": [
    {
     "name": "stdout",
     "output_type": "stream",
     "text": [
      "[[1], [1, 2], [1, 2, 3], [1, 2, 3, 4], [2], [2, 3], [2, 3, 4], [3], [3, 4], [4]]\n"
     ]
    }
   ],
   "source": [
    "test_list = [1,2,3,4] \n",
    "i=0\n",
    "comb=[]\n",
    "while i<len(test_list):\n",
    "    j=i\n",
    "    while j<len(test_list):\n",
    "        k=i\n",
    "        row=[]\n",
    "        while k<j+1:\n",
    "            row.append(test_list[k])\n",
    "            k+=1\n",
    "        comb.append(row)\n",
    "        j+=1\n",
    "    i+=1\n",
    "print(comb)"
   ]
  },
  {
   "cell_type": "code",
   "execution_count": 22,
   "id": "e7e535c4",
   "metadata": {},
   "outputs": [
    {
     "name": "stdout",
     "output_type": "stream",
     "text": [
      "[(4, 5, 6, 3), (1, 3, 5, 6)]\n"
     ]
    }
   ],
   "source": [
    "test_list = [(4, 5, 6, 3), (5, 6, 6, 9), (1, 3, 5, 6), (6, 6, 7, 8)] \n",
    "K = 6\n",
    "for i in test_list:\n",
    "    for j in range(0,len(i)):\n",
    "        if j+1!=len(i) and i[j]==i[j+1]:\n",
    "            test_list.remove(i)\n",
    "print(test_list)"
   ]
  },
  {
   "cell_type": "code",
   "execution_count": 37,
   "id": "62e1fe5c",
   "metadata": {},
   "outputs": [
    {
     "name": "stdout",
     "output_type": "stream",
     "text": [
      "['Gfg', 'is', 'best', 'is', 'Gfg', 'Gfg', 'Gfg', 'best', 'is', 'is', 'best', 'Gfg']\n"
     ]
    }
   ],
   "source": [
    "list1= ['Gfg', 'is', 'best'] \n",
    "list2=[0, 1, 2, 1, 0, 0, 0, 2, 1, 1, 2, 0]\n",
    "for i in range (0,len(list2)):\n",
    "    list2[i]=list1[list2[i]]\n",
    "print(list2)"
   ]
  },
  {
   "cell_type": "code",
   "execution_count": 55,
   "id": "31d42d78",
   "metadata": {},
   "outputs": [
    {
     "name": "stdout",
     "output_type": "stream",
     "text": [
      "[(4, 5, 6, 4, 4), (4, 4, 4), (3, 4, 9)]\n"
     ]
    }
   ],
   "source": [
    "test_list = [(4, 5, 6, 4, 4), (4, 4, 3), (4, 4, 4), (3, 4, 9)]\n",
    "test=[]\n",
    "K = 4\n",
    " \n",
    "# initializing N\n",
    "N = 3\n",
    "for i in range(0,len(test_list)):\n",
    "    flag=1\n",
    "    for j in range(0,len(test_list[i])):\n",
    "        if K==test_list[i][j]:\n",
    "            flag+=1\n",
    "    if flag!=N:\n",
    "        test.append(test_list[i])\n",
    "print(test)"
   ]
  },
  {
   "cell_type": "code",
   "execution_count": null,
   "id": "b1f22dd6",
   "metadata": {},
   "outputs": [],
   "source": []
  }
 ],
 "metadata": {
  "kernelspec": {
   "display_name": "Python 3 (ipykernel)",
   "language": "python",
   "name": "python3"
  },
  "language_info": {
   "codemirror_mode": {
    "name": "ipython",
    "version": 3
   },
   "file_extension": ".py",
   "mimetype": "text/x-python",
   "name": "python",
   "nbconvert_exporter": "python",
   "pygments_lexer": "ipython3",
   "version": "3.10.9"
  }
 },
 "nbformat": 4,
 "nbformat_minor": 5
}
