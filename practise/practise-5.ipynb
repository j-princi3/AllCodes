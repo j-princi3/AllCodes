{
 "cells": [
  {
   "cell_type": "code",
   "execution_count": 2,
   "id": "a8dc45e2",
   "metadata": {},
   "outputs": [
    {
     "data": {
      "text/plain": [
       "90"
      ]
     },
     "execution_count": 2,
     "metadata": {},
     "output_type": "execute_result"
    }
   ],
   "source": [
    "def unique(less):\n",
    "    fr=[]\n",
    "    p=1\n",
    "    for i in range (0,len(less)):\n",
    "        if less[i] not in fr:\n",
    "            fr.append(less[i])\n",
    "            p=p*less[i]\n",
    "    return p\n",
    "less=[1, 3, 5, 6, 3, 5, 6, 1]\n",
    "unique(less)"
   ]
  },
  {
   "cell_type": "code",
   "execution_count": 7,
   "id": "043a92b4",
   "metadata": {},
   "outputs": [
    {
     "name": "stdout",
     "output_type": "stream",
     "text": [
      "[4, 6, 3, 8]\n"
     ]
    }
   ],
   "source": [
    "test_list = [4, 6, 4, 3, 3, 4, 3, 4, 3, 8,6,6,8,8]\n",
    "K = 3\n",
    "form=[]\n",
    "for i in range (0,len(test_list )):\n",
    "    count=1\n",
    "    for j in range (i+1,len(test_list)):\n",
    "        if test_list[j] == test_list[i]:\n",
    "            count+=1\n",
    "    if count>=K:\n",
    "        if test_list[i] not in form:\n",
    "            form.append(test_list[i])\n",
    "print(form)"
   ]
  },
  {
   "cell_type": "code",
   "execution_count": 10,
   "id": "8a16e10e",
   "metadata": {},
   "outputs": [
    {
     "name": "stdout",
     "output_type": "stream",
     "text": [
      "False\n"
     ]
    }
   ],
   "source": [
    "test_list = [-1, 5, 6, 7, 3, 9]\n",
    "flag=0\n",
    "st=1\n",
    "en=10\n",
    "for i in range (0,len(test_list)):\n",
    "    if not test_list[i]>=st and test_list[i]<=en:\n",
    "        flag=1\n",
    "        print(\"False\")\n",
    "if flag==0:\n",
    "    print(\"True\")"
   ]
  },
  {
   "cell_type": "code",
   "execution_count": 12,
   "id": "d9b0c738",
   "metadata": {},
   "outputs": [
    {
     "name": "stdout",
     "output_type": "stream",
     "text": [
      "1 22 "
     ]
    }
   ],
   "source": [
    "test= [1, 1, 1, 64, 23, 64, 22, 22, 22]\n",
    "for i in range (0,len(test)-2):\n",
    "    if test[i]==test[i+1]==test[i+2]:\n",
    "        print(test[i],end=\" \")"
   ]
  },
  {
   "cell_type": "code",
   "execution_count": 16,
   "id": "ba9bc25e",
   "metadata": {},
   "outputs": [
    {
     "name": "stdout",
     "output_type": "stream",
     "text": [
      "[2, 2, 3, 4, 5]\n"
     ]
    }
   ],
   "source": [
    "my_arr = [1 ,2 ,2 ,3 ,4 ,5]\n",
    "i=0\n",
    "adj=[]\n",
    "while i<len(my_arr)-1:\n",
    "    if my_arr[i] >= my_arr[i+1]:\n",
    "        adj.append(my_arr[i])\n",
    "    elif my_arr[i+1] >= my_arr[i]:\n",
    "        adj.append(my_arr[i+1])\n",
    "    i+=1\n",
    "print(adj)"
   ]
  },
  {
   "cell_type": "code",
   "execution_count": 27,
   "id": "410ad3d0",
   "metadata": {},
   "outputs": [
    {
     "name": "stdout",
     "output_type": "stream",
     "text": [
      "2\n",
      "1\n"
     ]
    },
    {
     "ename": "IndexError",
     "evalue": "list index out of range",
     "output_type": "error",
     "traceback": [
      "\u001b[1;31m---------------------------------------------------------------------------\u001b[0m",
      "\u001b[1;31mIndexError\u001b[0m                                Traceback (most recent call last)",
      "Cell \u001b[1;32mIn[27], line 20\u001b[0m\n\u001b[0;32m     18\u001b[0m \u001b[38;5;28mprint\u001b[39m(\u001b[38;5;28mlen\u001b[39m(two))\n\u001b[0;32m     19\u001b[0m \u001b[38;5;28;01mwhile\u001b[39;00m j\u001b[38;5;241m<\u001b[39m\u001b[38;5;241m=\u001b[39m\u001b[38;5;241m2\u001b[39m:\n\u001b[1;32m---> 20\u001b[0m     temp\u001b[38;5;241m=\u001b[39m\u001b[43mtwo\u001b[49m\u001b[43m[\u001b[49m\u001b[38;5;241;43m1\u001b[39;49m\u001b[43m]\u001b[49m\n\u001b[0;32m     21\u001b[0m     two[\u001b[38;5;241m1\u001b[39m]\u001b[38;5;241m=\u001b[39mtwo[\u001b[38;5;241m0\u001b[39m]\n\u001b[0;32m     22\u001b[0m     two[\u001b[38;5;241m0\u001b[39m]\u001b[38;5;241m=\u001b[39mtemp\n",
      "\u001b[1;31mIndexError\u001b[0m: list index out of range"
     ]
    }
   ],
   "source": [
    "# Input: [1, 2, 3]\n",
    "# Output:\n",
    "# 1 2 3\n",
    "# 1 3 2\n",
    "# 2 1 3\n",
    "# 2 3 1\n",
    "# 3 1 2\n",
    "# 3 2 1\n",
    "inp=[1,2,3]\n",
    "comb=[]\n",
    "i=0\n",
    "l=len(inp)-1\n",
    "while i<len(inp):\n",
    "    row=[]\n",
    "    for j in range (0,2):\n",
    "        row.append(inp[i])\n",
    "        if j==1:\n",
    "            \n",
    "    i+=1\n",
    "for i in comb:\n",
    "    for j in i:\n",
    "        print(j,end=\" \")\n",
    "    print()"
   ]
  },
  {
   "cell_type": "code",
   "execution_count": null,
   "id": "a9517477",
   "metadata": {},
   "outputs": [],
   "source": []
  }
 ],
 "metadata": {
  "kernelspec": {
   "display_name": "Python 3 (ipykernel)",
   "language": "python",
   "name": "python3"
  },
  "language_info": {
   "codemirror_mode": {
    "name": "ipython",
    "version": 3
   },
   "file_extension": ".py",
   "mimetype": "text/x-python",
   "name": "python",
   "nbconvert_exporter": "python",
   "pygments_lexer": "ipython3",
   "version": "3.10.9"
  }
 },
 "nbformat": 4,
 "nbformat_minor": 5
}
