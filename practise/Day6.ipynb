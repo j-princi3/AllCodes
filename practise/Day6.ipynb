{
 "cells": [
  {
   "cell_type": "code",
   "execution_count": 3,
   "id": "d4dbceef",
   "metadata": {},
   "outputs": [
    {
     "name": "stdout",
     "output_type": "stream",
     "text": [
      "['princi', 'is', 'bad', 'girl']\n"
     ]
    }
   ],
   "source": [
    "import re\n",
    "s='princi is bad girl'\n",
    "x=re.split('\\s',s)\n",
    "print(x)"
   ]
  },
  {
   "cell_type": "code",
   "execution_count": 26,
   "id": "c34a6ac0",
   "metadata": {},
   "outputs": [
    {
     "name": "stdout",
     "output_type": "stream",
     "text": [
      "princii\n"
     ]
    }
   ],
   "source": [
    "import re\n",
    "s='princi bad girl'\n",
    "x=re.search('^pri*nci.*girl$',s)\n",
    "if x:\n",
    "    print('princii')\n",
    "else :\n",
    "    print('darshinii')"
   ]
  },
  {
   "cell_type": "code",
   "execution_count": 21,
   "id": "9ffa36c4",
   "metadata": {},
   "outputs": [
    {
     "name": "stdout",
     "output_type": "stream",
     "text": [
      "['p', 'r', 'i', 'n', 'c', 'i', 'i', 's', 'b', 'a', 'd', 'g', 'i', 'r', 'l']\n"
     ]
    }
   ],
   "source": [
    "import re\n",
    "s='princi is bad girl'\n",
    "x=re.findall('[a-z]',s)\n",
    "print(x)"
   ]
  },
  {
   "cell_type": "code",
   "execution_count": 22,
   "id": "a4711d69",
   "metadata": {},
   "outputs": [
    {
     "name": "stdout",
     "output_type": "stream",
     "text": [
      "princi03is03girl\n"
     ]
    }
   ],
   "source": [
    "import re\n",
    "s='princi is girl'\n",
    "x=re.sub('\\s','03',s)\n",
    "print(x)"
   ]
  },
  {
   "cell_type": "code",
   "execution_count": 27,
   "id": "700b375e",
   "metadata": {},
   "outputs": [
    {
     "name": "stdout",
     "output_type": "stream",
     "text": [
      "['p', 'r', 'i', 'n', 'c', 'i', 'i', 's', 'b', 'a', 'd', 'g', 'i', 'r', 'l']\n"
     ]
    }
   ],
   "source": [
    "#[] a set  of characters\n",
    "import re\n",
    "s='princi is bad girl'\n",
    "x=re.findall('[a-z]',s)\n",
    "print(x)"
   ]
  },
  {
   "cell_type": "code",
   "execution_count": 36,
   "id": "9c42f527",
   "metadata": {},
   "outputs": [
    {
     "name": "stdout",
     "output_type": "stream",
     "text": [
      "[' ', ' ', ' ']\n"
     ]
    }
   ],
   "source": [
    "# \\ signals a special sequence\n",
    "#\\d for any digits\n",
    "#\\w for any alphanumeric character\n",
    "#\\s for space\n",
    "import re\n",
    "s='princi is bad girl'\n",
    "x=re.findall('\\s',s)\n",
    "print(x)"
   ]
  },
  {
   "cell_type": "code",
   "execution_count": 45,
   "id": "49d3a408",
   "metadata": {},
   "outputs": [
    {
     "name": "stdout",
     "output_type": "stream",
     "text": [
      "['princi is']\n"
     ]
    }
   ],
   "source": [
    "import re\n",
    "s='princi is bad girl'\n",
    "x=re.findall('pri.....s',s)\n",
    "print(x)"
   ]
  },
  {
   "cell_type": "code",
   "execution_count": 39,
   "id": "8b1fa403",
   "metadata": {},
   "outputs": [
    {
     "name": "stdout",
     "output_type": "stream",
     "text": [
      "princii\n"
     ]
    }
   ],
   "source": [
    "# ^ is start with\n",
    "import re\n",
    "s='princi is bad girl'\n",
    "x=re.findall('^princi',s)\n",
    "if x:\n",
    "    print('princii')\n",
    "else:\n",
    "    print('honey')"
   ]
  },
  {
   "cell_type": "code",
   "execution_count": 41,
   "id": "da55ad37",
   "metadata": {},
   "outputs": [
    {
     "name": "stdout",
     "output_type": "stream",
     "text": [
      "honey\n"
     ]
    }
   ],
   "source": [
    "# $-ends with\n",
    "import re\n",
    "s='princi is bad girl'\n",
    "x=re.findall('princi$',s)\n",
    "if x:\n",
    "    print('princii')\n",
    "else:\n",
    "    print('honey')"
   ]
  },
  {
   "cell_type": "code",
   "execution_count": 49,
   "id": "9483abb8",
   "metadata": {},
   "outputs": [
    {
     "name": "stdout",
     "output_type": "stream",
     "text": [
      "['princi is bad gi']\n"
     ]
    }
   ],
   "source": [
    "# *-zero or more occurances\n",
    "s='princi is bad girl'\n",
    "x=re.findall('pri.*i',s)\n",
    "print(x)"
   ]
  },
  {
   "cell_type": "code",
   "execution_count": 56,
   "id": "4247c917",
   "metadata": {},
   "outputs": [
    {
     "name": "stdout",
     "output_type": "stream",
     "text": [
      "[]\n"
     ]
    }
   ],
   "source": [
    "s='prii s bad grl'\n",
    "x=re.findall('pri.+i',s)\n",
    "print(x)"
   ]
  },
  {
   "cell_type": "code",
   "execution_count": 62,
   "id": "2101d7f3",
   "metadata": {},
   "outputs": [
    {
     "name": "stdout",
     "output_type": "stream",
     "text": [
      "['prici']\n"
     ]
    }
   ],
   "source": [
    "s='prici is good girl'\n",
    "x=re.findall('pri.?i',s)\n",
    "print(x)"
   ]
  },
  {
   "cell_type": "code",
   "execution_count": 74,
   "id": "4aae5302",
   "metadata": {},
   "outputs": [
    {
     "name": "stdout",
     "output_type": "stream",
     "text": [
      "['princi ']\n"
     ]
    }
   ],
   "source": [
    "s='princi is good girl prini prici'\n",
    "x=re.findall('pri...{1} ',s)\n",
    "print(x)"
   ]
  },
  {
   "cell_type": "code",
   "execution_count": 79,
   "id": "2826e5d2",
   "metadata": {},
   "outputs": [
    {
     "name": "stdout",
     "output_type": "stream",
     "text": [
      "[' good']\n"
     ]
    }
   ],
   "source": [
    "s='is good girl'\n",
    "x=re.findall('prici | good',s)\n",
    "print(x)"
   ]
  },
  {
   "cell_type": "code",
   "execution_count": null,
   "id": "0ef63675",
   "metadata": {},
   "outputs": [],
   "source": []
  }
 ],
 "metadata": {
  "kernelspec": {
   "display_name": "Python 3 (ipykernel)",
   "language": "python",
   "name": "python3"
  },
  "language_info": {
   "codemirror_mode": {
    "name": "ipython",
    "version": 3
   },
   "file_extension": ".py",
   "mimetype": "text/x-python",
   "name": "python",
   "nbconvert_exporter": "python",
   "pygments_lexer": "ipython3",
   "version": "3.10.9"
  }
 },
 "nbformat": 4,
 "nbformat_minor": 5
}
