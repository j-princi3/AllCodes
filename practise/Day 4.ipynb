{
 "cells": [
  {
   "cell_type": "code",
   "execution_count": 1,
   "id": "9be24b08",
   "metadata": {},
   "outputs": [
    {
     "name": "stdout",
     "output_type": "stream",
     "text": [
      "Hello world\n"
     ]
    }
   ],
   "source": [
    "#capitalize()\tConverts the first character to upper case\n",
    "txt=\"hello world\"\n",
    "x=txt.capitalize()\n",
    "print(x)\n"
   ]
  },
  {
   "cell_type": "code",
   "execution_count": 3,
   "id": "0e45ff59",
   "metadata": {},
   "outputs": [
    {
     "name": "stdout",
     "output_type": "stream",
     "text": [
      "hello\n"
     ]
    }
   ],
   "source": [
    "#casefold()\tConverts string into lower case\n",
    "txt=\"HELLO\"\n",
    "x=txt.casefold()\n",
    "print(x)"
   ]
  },
  {
   "cell_type": "code",
   "execution_count": 15,
   "id": "b652d9ac",
   "metadata": {},
   "outputs": [
    {
     "name": "stdout",
     "output_type": "stream",
     "text": [
      "aaHELLOaaa\n"
     ]
    }
   ],
   "source": [
    "#center()\tReturns a centered string\n",
    "txt=\"HELLO\"\n",
    "x=txt.center(10,'a')\n",
    "print(x)"
   ]
  },
  {
   "cell_type": "code",
   "execution_count": 22,
   "id": "e1fdc83c",
   "metadata": {},
   "outputs": [
    {
     "name": "stdout",
     "output_type": "stream",
     "text": [
      "1\n"
     ]
    }
   ],
   "source": [
    "#count()\tReturns the number of times a specified value occurs in a string\n",
    "txt=\"Welcome to python programming,python doing well\"\n",
    "x=txt.count('well',0,len(txt))\n",
    "print(x)"
   ]
  },
  {
   "cell_type": "code",
   "execution_count": 26,
   "id": "651ee2d8",
   "metadata": {},
   "outputs": [
    {
     "name": "stdout",
     "output_type": "stream",
     "text": [
      "-1\n"
     ]
    }
   ],
   "source": [
    "#find()\tSearches the string for a specified value and returns the position of where it was found\n",
    "txt=\"Welcome to python programming,python doing well\"\n",
    "x=txt.find('q',10,len(txt))\n",
    "print(x)"
   ]
  },
  {
   "cell_type": "code",
   "execution_count": 28,
   "id": "b653cfa8",
   "metadata": {},
   "outputs": [
    {
     "name": "stdout",
     "output_type": "stream",
     "text": [
      "True\n"
     ]
    }
   ],
   "source": [
    "#endswith()\tReturns true if the string ends with the specified value\n",
    "txt=\"Welcome to python programming,python doing well\"\n",
    "x=txt.endswith('doing well',5,len(txt))\n",
    "print(x)"
   ]
  },
  {
   "cell_type": "code",
   "execution_count": 29,
   "id": "5164060e",
   "metadata": {},
   "outputs": [
    {
     "name": "stdout",
     "output_type": "stream",
     "text": [
      "37\n"
     ]
    }
   ],
   "source": [
    "#index()\tSearches the string for a specified value and returns the position of where it was found\n",
    "#difference between find and index-in index function - a state where computation can not be handled\n",
    "txt=\"Welcome to python programming,python doing well\"\n",
    "x=txt.index('doing well',5,len(txt))\n",
    "print(x)"
   ]
  },
  {
   "cell_type": "code",
   "execution_count": 33,
   "id": "c44aec6d",
   "metadata": {},
   "outputs": [
    {
     "name": "stdout",
     "output_type": "stream",
     "text": [
      "True False\n"
     ]
    }
   ],
   "source": [
    "#isalnum()\tReturns True if all characters in the string are alphanumeric(consisting of or using both letters and numerals)\n",
    "#isalpha()\tReturns True if all characters in the string are in the alphabet\n",
    "txt=\"Welcome0\"\n",
    "x=txt.isalnum()\n",
    "y=txt.isalpha()\n",
    "print(x,y)"
   ]
  },
  {
   "cell_type": "code",
   "execution_count": 39,
   "id": "1b6f3634",
   "metadata": {},
   "outputs": [
    {
     "name": "stdout",
     "output_type": "stream",
     "text": [
      "True\n",
      "False\n"
     ]
    },
    {
     "data": {
      "text/plain": [
       "'Python isdecimal() returns True only if the string consists of all decimal characters with no alphabets, no whitespaces, \\nno special characters, no floating-point numbers, and no separators'"
      ]
     },
     "execution_count": 39,
     "metadata": {},
     "output_type": "execute_result"
    }
   ],
   "source": [
    "#isdecimal()\tReturns True if all characters in the string are decimals(unicode as parameter)\n",
    "#ASCII encodes symbols, digits, letters, etc.,\n",
    "#Unicode encodes special texts from different languages, letters, symbols, etc\n",
    "a='\\u0030'\n",
    "b=\"\\u0047\"\n",
    "print(a.isdecimal())\n",
    "print(b.isdecimal())\n",
    "'''Python isdecimal() returns True only if the string consists of all decimal characters with no alphabets, no whitespaces, \n",
    "no special characters, no floating-point numbers, and no separators'''"
   ]
  },
  {
   "cell_type": "code",
   "execution_count": 45,
   "id": "3bd79d5c",
   "metadata": {},
   "outputs": [
    {
     "name": "stdout",
     "output_type": "stream",
     "text": [
      "True\n",
      "False\n"
     ]
    }
   ],
   "source": [
    "#isidentifier()\tReturns True if the string is an identifier\n",
    "a=\"_MyFolder\"\n",
    "c=\"2bring\"\n",
    "d=\"my demo\"\n",
    "print(a.isidentifier())\n",
    "print(c.isidentifier())"
   ]
  },
  {
   "cell_type": "code",
   "execution_count": 52,
   "id": "d1ed9f15",
   "metadata": {},
   "outputs": [
    {
     "name": "stdout",
     "output_type": "stream",
     "text": [
      "of all fruits banana    is my favourite\n"
     ]
    }
   ],
   "source": [
    "#lstrip()\tReturns a left trim version of the string\n",
    "txt=\"   banana   \"\n",
    "x=txt.lstrip()\n",
    "print(\"of all fruits\",x,\"is my favourite\")"
   ]
  },
  {
   "cell_type": "code",
   "execution_count": 55,
   "id": "55064112",
   "metadata": {},
   "outputs": [
    {
     "name": "stdout",
     "output_type": "stream",
     "text": [
      "Hi World, Hello Python\n"
     ]
    }
   ],
   "source": [
    "#replace()\tReturns a string where a specified value is replaced with a specified value\n",
    "string=\"Hello World, Hello Python\"\n",
    "x=string.replace(\"Hello\",\"Hi\",1)\n",
    "print(x)"
   ]
  },
  {
   "cell_type": "code",
   "execution_count": null,
   "id": "7be8fed8",
   "metadata": {},
   "outputs": [],
   "source": []
  }
 ],
 "metadata": {
  "kernelspec": {
   "display_name": "Python 3 (ipykernel)",
   "language": "python",
   "name": "python3"
  },
  "language_info": {
   "codemirror_mode": {
    "name": "ipython",
    "version": 3
   },
   "file_extension": ".py",
   "mimetype": "text/x-python",
   "name": "python",
   "nbconvert_exporter": "python",
   "pygments_lexer": "ipython3",
   "version": "3.10.9"
  }
 },
 "nbformat": 4,
 "nbformat_minor": 5
}
