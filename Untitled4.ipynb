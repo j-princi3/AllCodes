{
 "cells": [
  {
   "cell_type": "code",
   "execution_count": 3,
   "id": "a3fc2217",
   "metadata": {},
   "outputs": [
    {
     "name": "stdout",
     "output_type": "stream",
     "text": [
      "Enter a list element separated by spaceprinci jain\n",
      "['princi', 'jain']\n"
     ]
    }
   ],
   "source": [
    "s=list(map(str,input(\"Enter a list element separated by space\").split()))\n",
    "print(s)"
   ]
  },
  {
   "cell_type": "code",
   "execution_count": 3,
   "id": "ee047451",
   "metadata": {},
   "outputs": [
    {
     "name": "stdout",
     "output_type": "stream",
     "text": [
      "097\n"
     ]
    }
   ],
   "source": [
    "cylinder={\"1\":\"Indane\",\"2\":\"HP\",\"3\":\"Bharat\"}\n",
    "for i in cylinder:\n",
    "    if \"bharat\" ==cylinder[i]:\n",
    "        pi"
   ]
  },
  {
   "cell_type": "code",
   "execution_count": null,
   "id": "3b75f0bc",
   "metadata": {},
   "outputs": [],
   "source": []
  }
 ],
 "metadata": {
  "kernelspec": {
   "display_name": "Python 3 (ipykernel)",
   "language": "python",
   "name": "python3"
  },
  "language_info": {
   "codemirror_mode": {
    "name": "ipython",
    "version": 3
   },
   "file_extension": ".py",
   "mimetype": "text/x-python",
   "name": "python",
   "nbconvert_exporter": "python",
   "pygments_lexer": "ipython3",
   "version": "3.10.9"
  }
 },
 "nbformat": 4,
 "nbformat_minor": 5
}
