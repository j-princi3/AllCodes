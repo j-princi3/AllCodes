{
 "cells": [
  {
   "cell_type": "code",
   "execution_count": 11,
   "id": "98d8870a",
   "metadata": {},
   "outputs": [
    {
     "name": "stdout",
     "output_type": "stream",
     "text": [
      "20\n",
      "[30, 35, 38, 41, 54, 53, 78, 71, 110, 95, 150, 125, 198, 161, 254, 203, 318, 251, 390, 305]\n"
     ]
    }
   ],
   "source": [
    "series=[30,35]\n",
    "N=int(input())\n",
    "j=0\n",
    "k=0\n",
    "for i in range (0,N):\n",
    "    if i%2==0:\n",
    "        series.append(series[i]+k*8)\n",
    "        k+=1\n",
    "    else:\n",
    "        series.append(series[i]+j*6)\n",
    "        j+=1\n",
    "series.remove(30)\n",
    "series.remove(35)\n",
    "print(series)"
   ]
  },
  {
   "cell_type": "code",
   "execution_count": 1,
   "id": "07a7a5e0",
   "metadata": {},
   "outputs": [
    {
     "name": "stdout",
     "output_type": "stream",
     "text": [
      "10\n",
      "[20, 60, 104, 152, 204, 260, 320, 384, 452, 524]\n"
     ]
    }
   ],
   "source": [
    "# 84  84+16 84+16+16\n",
    "# 92  92+16 92+16+16\n",
    "series=[20,60]\n",
    "N=int(input())\n",
    "j=0\n",
    "k=0\n",
    "for i in range (0,N-2):\n",
    "    if i%2==0:\n",
    "        series.append(series[i]+84+k*16)\n",
    "        k+=1\n",
    "    else:\n",
    "        series.append(series[i]+92+j*16)\n",
    "        j+=1\n",
    "print(series)"
   ]
  },
  {
   "cell_type": "code",
   "execution_count": null,
   "id": "fed1687b",
   "metadata": {},
   "outputs": [],
   "source": [
    "prime=[]\n",
    "N=int(input())\n",
    "j=2\n",
    "while j>=2:\n",
    "    count=0\n",
    "    for k in range (2,j):\n",
    "        if j%k==0:\n",
    "            count=1\n",
    "            break\n",
    "    if count==0:\n",
    "        prime.append(j)\n",
    "    if len(prime)==N:\n",
    "        print(prime)\n",
    "    j+=1\n",
    "        "
   ]
  },
  {
   "cell_type": "code",
   "execution_count": 13,
   "id": "c8cb236c",
   "metadata": {},
   "outputs": [
    {
     "name": "stdout",
     "output_type": "stream",
     "text": [
      "50 100\n",
      "17\n"
     ]
    }
   ],
   "source": [
    "limit=list(map(int,input().split()))\n",
    "flag=0\n",
    "for i in range (limit[0],limit[1]+1):\n",
    "    count=0\n",
    "    for j in range(1,i+1):\n",
    "        if (i%j==0):\n",
    "            count+=1\n",
    "    if count==4:\n",
    "#         print(i)\n",
    "        flag+=1\n",
    "print(flag)"
   ]
  },
  {
   "cell_type": "code",
   "execution_count": 4,
   "id": "93305044",
   "metadata": {},
   "outputs": [
    {
     "name": "stdout",
     "output_type": "stream",
     "text": [
      "0\n",
      "1 3\n",
      "5 7\n",
      "9 11\n",
      "13 15 17\n",
      "min: (1, [0])\n",
      "max: (3, [13, 15, 17])\n"
     ]
    }
   ],
   "source": [
    "# num=[[0],[1,3],[5,7],[9,11],[13,15,17]]\n",
    "num=[]\n",
    "for i in range (0,5):\n",
    "    r=[]\n",
    "    r=list(map(int,input().split()))\n",
    "    num.append(r)\n",
    "min=len(num[0])\n",
    "max=len(num[0])\n",
    "list1=[min,num[0]]\n",
    "list2=[max,num[0]]\n",
    "for i in num:\n",
    "    if min>len(i):\n",
    "        min=len(i)\n",
    "        list1.clear()\n",
    "        list1.append(min)\n",
    "        list1.append(i)\n",
    "    if max<len(i):\n",
    "        max=len(i)\n",
    "        list2.clear()\n",
    "        list2.append(max)\n",
    "        list2.append(i)\n",
    "list1=tuple(list1)\n",
    "list2=tuple(list2)\n",
    "print(\"min:\",list1)\n",
    "print(\"max:\",list2)"
   ]
  },
  {
   "cell_type": "code",
   "execution_count": 10,
   "id": "7d775400",
   "metadata": {},
   "outputs": [
    {
     "name": "stdout",
     "output_type": "stream",
     "text": [
      "{}\n"
     ]
    }
   ],
   "source": [
    "dic={1:\"jj\"}\n",
    "del dic[1]\n",
    "print(dic)"
   ]
  },
  {
   "cell_type": "code",
   "execution_count": 11,
   "id": "ddb53a2e",
   "metadata": {},
   "outputs": [
    {
     "name": "stdout",
     "output_type": "stream",
     "text": [
      "(1, 2, 1, 2)\n"
     ]
    }
   ],
   "source": [
    "t=(1,2)+(1,2)\n",
    "print(t)"
   ]
  },
  {
   "cell_type": "code",
   "execution_count": 13,
   "id": "c1e40d98",
   "metadata": {},
   "outputs": [
    {
     "name": "stdout",
     "output_type": "stream",
     "text": [
      "{1, 2}\n"
     ]
    }
   ],
   "source": [
    "d=set({1:\"kk\",2:\"kk\"})\n",
    "# .union({1:\"kk\",2:\"kk\"})\n",
    "\n",
    "print(d)"
   ]
  },
  {
   "cell_type": "code",
   "execution_count": 2,
   "id": "41124d61",
   "metadata": {},
   "outputs": [
    {
     "name": "stdout",
     "output_type": "stream",
     "text": [
      "p\n",
      "{'l': 'p', 1: {}}\n"
     ]
    }
   ],
   "source": [
    "dic={\"l\":\"p\",\"l\":\"p\"}\n",
    "for i in dic:\n",
    "    print(dic[i])\n",
    "dic[len(dic)]={}\n",
    "print(dic)"
   ]
  },
  {
   "cell_type": "code",
   "execution_count": 5,
   "id": "319dda9a",
   "metadata": {},
   "outputs": [
    {
     "name": "stdout",
     "output_type": "stream",
     "text": [
      "Enter full name: lkjhgf\n",
      "Enter Phone number: lkhf\n",
      "Enter Password:kjh\n",
      "Number should be 10 number\n",
      "Enter full name: kh\n",
      "Enter Phone number: 7963541312\n",
      "Enter Password:jhfA123$\n",
      "Enter User Name:poiuy\n"
     ]
    },
    {
     "ename": "KeyError",
     "evalue": "'user_name'",
     "output_type": "error",
     "traceback": [
      "\u001b[1;31m---------------------------------------------------------------------------\u001b[0m",
      "\u001b[1;31mKeyError\u001b[0m                                  Traceback (most recent call last)",
      "Cell \u001b[1;32mIn[5], line 60\u001b[0m\n\u001b[0;32m     57\u001b[0m         \u001b[38;5;28mprint\u001b[39m(\u001b[38;5;124m\"\u001b[39m\u001b[38;5;124mPassword must contain atleast capital letter, atleast special character (*,$,@) only and atleast one number \u001b[39m\u001b[38;5;124m\"\u001b[39m)\n\u001b[0;32m     58\u001b[0m         register(\u001b[38;5;241m2\u001b[39m)\n\u001b[1;32m---> 60\u001b[0m \u001b[43mregister\u001b[49m\u001b[43m(\u001b[49m\u001b[38;5;241;43m2\u001b[39;49m\u001b[43m)\u001b[49m\n",
      "Cell \u001b[1;32mIn[5], line 14\u001b[0m, in \u001b[0;36mregister\u001b[1;34m(choice)\u001b[0m\n\u001b[0;32m     12\u001b[0m \u001b[38;5;28;01melse\u001b[39;00m:\n\u001b[0;32m     13\u001b[0m     \u001b[38;5;28mprint\u001b[39m(\u001b[38;5;124m\"\u001b[39m\u001b[38;5;124mNumber should be 10 number\u001b[39m\u001b[38;5;124m\"\u001b[39m)\n\u001b[1;32m---> 14\u001b[0m     \u001b[43mregister\u001b[49m\u001b[43m(\u001b[49m\u001b[38;5;241;43m2\u001b[39;49m\u001b[43m)\u001b[49m\n\u001b[0;32m     15\u001b[0m dic[\u001b[38;5;124m\"\u001b[39m\u001b[38;5;124mpassword\u001b[39m\u001b[38;5;124m\"\u001b[39m]\u001b[38;5;241m=\u001b[39mchecking(dic[\u001b[38;5;124m\"\u001b[39m\u001b[38;5;124mpassword\u001b[39m\u001b[38;5;124m\"\u001b[39m])\n\u001b[0;32m     16\u001b[0m dic[\u001b[38;5;124m\"\u001b[39m\u001b[38;5;124muser_name\u001b[39m\u001b[38;5;124m\"\u001b[39m]\u001b[38;5;241m=\u001b[39musername()\n",
      "Cell \u001b[1;32mIn[5], line 16\u001b[0m, in \u001b[0;36mregister\u001b[1;34m(choice)\u001b[0m\n\u001b[0;32m     14\u001b[0m     register(\u001b[38;5;241m2\u001b[39m)\n\u001b[0;32m     15\u001b[0m dic[\u001b[38;5;124m\"\u001b[39m\u001b[38;5;124mpassword\u001b[39m\u001b[38;5;124m\"\u001b[39m]\u001b[38;5;241m=\u001b[39mchecking(dic[\u001b[38;5;124m\"\u001b[39m\u001b[38;5;124mpassword\u001b[39m\u001b[38;5;124m\"\u001b[39m])\n\u001b[1;32m---> 16\u001b[0m dic[\u001b[38;5;124m\"\u001b[39m\u001b[38;5;124muser_name\u001b[39m\u001b[38;5;124m\"\u001b[39m]\u001b[38;5;241m=\u001b[39m\u001b[43musername\u001b[49m\u001b[43m(\u001b[49m\u001b[43m)\u001b[49m\n\u001b[0;32m     17\u001b[0m \u001b[38;5;28mprint\u001b[39m(\u001b[38;5;124m\"\u001b[39m\u001b[38;5;124mSuccessfully Registrated!\u001b[39m\u001b[38;5;124m\"\u001b[39m)\n\u001b[0;32m     18\u001b[0m details\u001b[38;5;241m.\u001b[39mappend(dic)\n",
      "Cell \u001b[1;32mIn[5], line 23\u001b[0m, in \u001b[0;36musername\u001b[1;34m()\u001b[0m\n\u001b[0;32m     21\u001b[0m user_name\u001b[38;5;241m=\u001b[39m\u001b[38;5;28minput\u001b[39m(\u001b[38;5;124m\"\u001b[39m\u001b[38;5;124mEnter User Name:\u001b[39m\u001b[38;5;124m\"\u001b[39m)\n\u001b[0;32m     22\u001b[0m \u001b[38;5;28;01mfor\u001b[39;00m j \u001b[38;5;129;01min\u001b[39;00m details:\n\u001b[1;32m---> 23\u001b[0m     \u001b[38;5;28;01mif\u001b[39;00m \u001b[43mdic\u001b[49m\u001b[43m[\u001b[49m\u001b[38;5;124;43m\"\u001b[39;49m\u001b[38;5;124;43muser_name\u001b[39;49m\u001b[38;5;124;43m\"\u001b[39;49m\u001b[43m]\u001b[49m\u001b[38;5;241m==\u001b[39mj[\u001b[38;5;124m\"\u001b[39m\u001b[38;5;124muser_name\u001b[39m\u001b[38;5;124m\"\u001b[39m]:\n\u001b[0;32m     24\u001b[0m         \u001b[38;5;28mprint\u001b[39m(\u001b[38;5;124m\"\u001b[39m\u001b[38;5;124mThis userName already exist!\u001b[39m\u001b[38;5;124m\"\u001b[39m)\n\u001b[0;32m     25\u001b[0m         username()\n",
      "\u001b[1;31mKeyError\u001b[0m: 'user_name'"
     ]
    }
   ],
   "source": [
    "details=[{\"user_name\":\"princi\",\"password\":\"jain\",\"phone\":\"1234567890\",\"fullname\":\"princijain\"}]\n",
    "def register(choice):\n",
    "    dic={}\n",
    "    dic[\"fullname\"]=input(\"Enter full name: \")\n",
    "    dic[\"phone\"]=input(\"Enter Phone number: \")\n",
    "    dic[\"password\"]=input(\"Enter Password:\")\n",
    "    if len(dic[\"phone\"]) == 10:\n",
    "        for i in details:\n",
    "            if dic[\"phone\"]==i[\"phone\"]:\n",
    "                print(\"You are already registrated\")\n",
    "                mainmenu()\n",
    "    else:\n",
    "        print(\"Number should be 10 number\")\n",
    "        register(2)\n",
    "    dic[\"password\"]=checking(dic[\"password\"])\n",
    "    dic[\"user_name\"]=username()\n",
    "    print(\"Successfully Registrated!\")\n",
    "    details.append(dic)\n",
    "    \n",
    "def username():\n",
    "    user_name=input(\"Enter User Name:\")\n",
    "    for j in details:\n",
    "        if dic[\"user_name\"]==j[\"user_name\"]:\n",
    "            print(\"This userName already exist!\")\n",
    "            username()\n",
    "        else:\n",
    "            return user_name\n",
    "    \n",
    "def checking(password):\n",
    "    j=0\n",
    "    flag_e=0\n",
    "    flag_num=0\n",
    "    flag_az=0\n",
    "    flag_za=0\n",
    "    while j<len(password):\n",
    "        k=password[j]\n",
    "        i=ord(password[j])\n",
    "        if k==\"*\" or k==\"$\" or k== \"@\":\n",
    "            flag_e=1\n",
    "            j+=1\n",
    "        elif i>=48 and i<=57:\n",
    "            flag_num=1\n",
    "            j+=1\n",
    "        elif i>=65 and i<=90:\n",
    "            flag_az=1\n",
    "            j+=1\n",
    "        elif i>=97 and i<=122:\n",
    "            flag_za=1\n",
    "            j+=1\n",
    "        else:\n",
    "           flag_e=0\n",
    "           print(\"*,$,@ are only allowed\")\n",
    "           register(2)\n",
    "    if flag_e==1 and flag_za==1 and flag_az==1 and flag_num==1:\n",
    "        return password\n",
    "    else:\n",
    "        print(\"Password must contain atleast capital letter, atleast special character (*,$,@) only and atleast one number \")\n",
    "        register(2)\n",
    "    \n",
    "register(2)\n"
   ]
  },
  {
   "cell_type": "code",
   "execution_count": null,
   "id": "c0fc8e93",
   "metadata": {},
   "outputs": [],
   "source": []
  }
 ],
 "metadata": {
  "kernelspec": {
   "display_name": "Python 3 (ipykernel)",
   "language": "python",
   "name": "python3"
  },
  "language_info": {
   "codemirror_mode": {
    "name": "ipython",
    "version": 3
   },
   "file_extension": ".py",
   "mimetype": "text/x-python",
   "name": "python",
   "nbconvert_exporter": "python",
   "pygments_lexer": "ipython3",
   "version": "3.10.9"
  }
 },
 "nbformat": 4,
 "nbformat_minor": 5
}
