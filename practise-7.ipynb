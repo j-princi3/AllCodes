{
 "cells": [
  {
   "cell_type": "code",
   "execution_count": 12,
   "id": "05def46a",
   "metadata": {},
   "outputs": [
    {
     "name": "stdout",
     "output_type": "stream",
     "text": [
      "1 10 2 8 3 9 4 [1, 2, 3, 4, 8, 9, 10]\n",
      "[1, 2, 3, 4, 8, 9, 10]\n",
      "[1, 5, 2, 3]\n"
     ]
    }
   ],
   "source": [
    "#declaration \n",
    "list1=[1,10,2,8,3,9,4]\n",
    "#accessing the elements\n",
    "for i in list1:\n",
    "    print(i,end=' ')\n",
    "list1=sorted(list1)\n",
    "print(list1)\n",
    "list2=list1.copy()\n",
    "print(list2)\n",
    "lis = [1,2,3]\n",
    "lis.insert(1,5)\n",
    "print(lis)"
   ]
  },
  {
   "cell_type": "code",
   "execution_count": 17,
   "id": "93433442",
   "metadata": {},
   "outputs": [
    {
     "name": "stdout",
     "output_type": "stream",
     "text": [
      "one six Eight nine\n",
      "1 6 8 9 "
     ]
    }
   ],
   "source": [
    "dic={'one':'1', 'two': '2', 'three': '3','four': '4','five': '5','six': '6','seven': '7','eight': '8','nine': '9','zero': '0'}\n",
    "stat=input()\n",
    "stat=stat.lower()\n",
    "word=\"\"\n",
    "for i in range(0,len(stat)):\n",
    "    if stat[i]!=\" \":\n",
    "        word=word+stat[i]\n",
    "    if stat[i]==\" \" or i+1==len(stat):\n",
    "        if word in dic:\n",
    "            print(dic[word],end=' ')\n",
    "        word=\"\""
   ]
  },
  {
   "cell_type": "code",
   "execution_count": 4,
   "id": "ae593ccc",
   "metadata": {},
   "outputs": [
    {
     "name": "stdout",
     "output_type": "stream",
     "text": [
      "5\n",
      "x \n",
      "x x \n",
      "x x x \n",
      "x x x x \n",
      "x x x x x \n",
      "x x x x \n",
      "x x x \n",
      "x x \n",
      "x \n"
     ]
    }
   ],
   "source": [
    "n=int(input())\n",
    "for i in range (1,n):\n",
    "    for j in range (1,i+1):\n",
    "        print(\"x\",end=\" \")\n",
    "    print()\n",
    "for i in range (1,n+1):\n",
    "    for j in range (1,n-i+2):\n",
    "        print(\"x\",end=\" \")\n",
    "    print()"
   ]
  },
  {
   "cell_type": "code",
   "execution_count": 2,
   "id": "bdd0c3d0",
   "metadata": {},
   "outputs": [
    {
     "name": "stdout",
     "output_type": "stream",
     "text": [
      "[1, 2, 1, 2, 1, 1, 1, 1, 1, 3, 2, 1, 2, 1, 1]\n"
     ]
    }
   ],
   "source": [
    "str=\"geekksforgggeeks\"\n",
    "terms=[]\n",
    "for i in range (0,len(str)):\n",
    "    j=i+1\n",
    "    count=1\n",
    "    while j<len(str):\n",
    "        if str[i]==str[j]:\n",
    "            count+=1\n",
    "        else :\n",
    "            terms.append(count)\n",
    "            break\n",
    "        j+=1\n",
    "print(terms)"
   ]
  },
  {
   "cell_type": "code",
   "execution_count": null,
   "id": "23bbd820",
   "metadata": {},
   "outputs": [],
   "source": []
  }
 ],
 "metadata": {
  "kernelspec": {
   "display_name": "Python 3 (ipykernel)",
   "language": "python",
   "name": "python3"
  },
  "language_info": {
   "codemirror_mode": {
    "name": "ipython",
    "version": 3
   },
   "file_extension": ".py",
   "mimetype": "text/x-python",
   "name": "python",
   "nbconvert_exporter": "python",
   "pygments_lexer": "ipython3",
   "version": "3.10.9"
  }
 },
 "nbformat": 4,
 "nbformat_minor": 5
}
