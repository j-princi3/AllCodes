{
 "cells": [
  {
   "cell_type": "code",
   "execution_count": 15,
   "id": "6cae53d3",
   "metadata": {},
   "outputs": [
    {
     "name": "stdout",
     "output_type": "stream",
     "text": [
      "123 456 789\n",
      "12 45 78 369\n",
      "12 45 96\n",
      "132 \n",
      "123 14 789\n",
      "[(123, 456, 789), (12, 45, 78, 369), (12, 45, 96), (132,), (123, 14, 789)]\n",
      "Enter K value:3\n",
      "[(123, 456, 789), (132,)]\n"
     ]
    }
   ],
   "source": [
    "# test_list = [(54, 2), (34, 55), (222, 231), (12, 45), (78, ),(43,90,8888)]\n",
    "test_list=[]\n",
    "for i in range(0,5):\n",
    "    r=[]\n",
    "    r=tuple(map(int,input().split()))\n",
    "    test_list.append(r)\n",
    "print(test_list)\n",
    "K = int(input(\"Enter K value:\"))\n",
    "new=[]\n",
    "for i in test_list:\n",
    "    flag=0\n",
    "    for j in i:\n",
    "        q=str(j)\n",
    "        if len(q)==K:\n",
    "            flag=1+flag\n",
    "    if flag==len(i):\n",
    "        i=tuple(i)\n",
    "        new.append(i)\n",
    "print(new)"
   ]
  },
  {
   "cell_type": "code",
   "execution_count": 7,
   "id": "d2e30ccd",
   "metadata": {},
   "outputs": [
    {
     "name": "stdout",
     "output_type": "stream",
     "text": [
      "<class 'str'>\n"
     ]
    }
   ],
   "source": [
    "i=25\n",
    "j=str(25)\n",
    "print(type(j))"
   ]
  },
  {
   "cell_type": "code",
   "execution_count": 18,
   "id": "4a3731a9",
   "metadata": {},
   "outputs": [
    {
     "name": "stdout",
     "output_type": "stream",
     "text": [
      "[(6, 7), (9, 8)]\n"
     ]
    }
   ],
   "source": [
    "test_list =[(6, 7), (2, 3), (7, 6), (9, 8), (10, 2), (8, 9)]\n",
    "k=[]\n",
    "for i in test_list:\n",
    "    j=(i[1],i[0])\n",
    "    if j in test_list: \n",
    "        k.append(i)\n",
    "        test_list.remove(i)\n",
    "print(k)"
   ]
  },
  {
   "cell_type": "code",
   "execution_count": 4,
   "id": "4eabac2c",
   "metadata": {},
   "outputs": [
    {
     "name": "stdout",
     "output_type": "stream",
     "text": [
      "[(19, 4, 5, 3), (4, 5, 5, 7), (1, 3, 7, 4), (1, 2)]\n"
     ]
    }
   ],
   "source": [
    "test_list = [(4, 5, 5, 7), (1, 3, 7, 4), (19, 4, 5, 3), (1, 2)]\n",
    "l=sorted(test_list)\n",
    "print(l[::-1])"
   ]
  },
  {
   "cell_type": "code",
   "execution_count": 9,
   "id": "ab024ff1",
   "metadata": {},
   "outputs": [
    {
     "name": "stdout",
     "output_type": "stream",
     "text": [
      "(1, 5, 7, 10)\n"
     ]
    }
   ],
   "source": [
    "original= (1, 5, 7, (4, 6), 10,(9,0,8))\n",
    "o=[]\n",
    "for i in range (0,len(original)):\n",
    "    if type(original[i]) is not tuple:\n",
    "        o.append(original[i])\n",
    "o=tuple(o)\n",
    "print(o)"
   ]
  },
  {
   "cell_type": "code",
   "execution_count": 2,
   "id": "7cbec0ef",
   "metadata": {},
   "outputs": [
    {
     "name": "stdout",
     "output_type": "stream",
     "text": [
      "{5: 1, 6: 3, 7: 2, 8: 1}\n"
     ]
    }
   ],
   "source": [
    "test_tuple = (5, (6, (7, 8, 6)),(6,7))\n",
    "count_dict = {}\n",
    "def count_elements(t):\n",
    "    if isinstance(t, tuple):\n",
    "        for item in t:\n",
    "            count_elements(item)\n",
    "    else:\n",
    "        if t in count_dict:\n",
    "            count_dict[t] += 1\n",
    "        else:\n",
    "            count_dict[t] = 1\n",
    "count_elements(test_tuple)\n",
    "print(count_dict)"
   ]
  },
  {
   "cell_type": "code",
   "execution_count": 9,
   "id": "e1d9d0bf",
   "metadata": {},
   "outputs": [
    {
     "data": {
      "text/plain": [
       "[3, 4, 5, 7, 1, 6]"
      ]
     },
     "execution_count": 9,
     "metadata": {},
     "output_type": "execute_result"
    }
   ],
   "source": [
    "k=[]\n",
    "def unique(t):\n",
    "    for i in t:\n",
    "        if type(i) is tuple:\n",
    "            unique(i)\n",
    "        else:\n",
    "            if i not in k:\n",
    "                k.append(i)\n",
    "    return k\n",
    "original= [(3, 4, 5), (4, 5, 7), (1, (4,5,6))]\n",
    "unique(original)      "
   ]
  },
  {
   "cell_type": "code",
   "execution_count": 17,
   "id": "c6379200",
   "metadata": {},
   "outputs": [
    {
     "name": "stdout",
     "output_type": "stream",
     "text": [
      "{5: 1, 7: 1, 8: 1}\n"
     ]
    }
   ],
   "source": [
    "test_list = [(6, 5), (1, 7), (2, 5), (8, 7), (9, 8), (3, 7)] \n",
    "dic={}\n",
    "for i in range(0,len(test_list)):\n",
    "    k=test_list[i][1]\n",
    "    count=1\n",
    "    for j in range(i+1,len(test_list)):\n",
    "        if k in test_list[j]:\n",
    "            count=count+1\n",
    "            dic[k]=count\n",
    "    if count==1:\n",
    "        dic[k]=1\n",
    "print(dic)"
   ]
  },
  {
   "cell_type": "code",
   "execution_count": 11,
   "id": "7abbf726",
   "metadata": {},
   "outputs": [
    {
     "name": "stdout",
     "output_type": "stream",
     "text": [
      "8328\n",
      "notes of 500 :16\n",
      "notes of 200 :1\n",
      "notes of 100 :1\n",
      "notes of 50 : 0\n",
      "notes of 20 :1\n",
      "left over money: 8\n"
     ]
    }
   ],
   "source": [
    "n=int(input())\n",
    "l=[500,200,100,50,20]\n",
    "for i in l:\n",
    "    if n>=i:\n",
    "        print(f\"notes of {i} :{n//i}\")\n",
    "        n=n%i\n",
    "    else:\n",
    "        print(f\"notes of {i} : 0\") \n",
    "if n!=0:\n",
    "    print(f\"left over money: {n}\")"
   ]
  },
  {
   "cell_type": "code",
   "execution_count": 53,
   "id": "ec97c372",
   "metadata": {},
   "outputs": [
    {
     "name": "stdout",
     "output_type": "stream",
     "text": [
      "91\n",
      "not an emirp number\n"
     ]
    }
   ],
   "source": [
    "def is_prime(n):\n",
    "    flag=0\n",
    "    n=int(n)\n",
    "    for i in range(2,n):\n",
    "        if n%i==0:\n",
    "            flag=1\n",
    "            break\n",
    "    if flag==0:\n",
    "        return 'true'\n",
    "    else:\n",
    "        return 'false'\n",
    "n=input()\n",
    "if is_prime(n)=='true' :\n",
    "    if is_prime(n[::-1])=='true':\n",
    "        print(\"emirp number\")\n",
    "else:\n",
    "    print(\"not an emirp number\")\n"
   ]
  },
  {
   "cell_type": "code",
   "execution_count": 18,
   "id": "d2ef3788",
   "metadata": {},
   "outputs": [
    {
     "name": "stdout",
     "output_type": "stream",
     "text": [
      "82\n",
      "Happy number\n",
      "[68, 100, 1]\n"
     ]
    }
   ],
   "source": [
    "# happy number\n",
    "num=int(input())\n",
    "l=[]\n",
    "sum=0\n",
    "while sum != 1:\n",
    "    sum=0\n",
    "    while num>0:\n",
    "        sum=sum+((num%10)**2)    \n",
    "        num=num//10\n",
    "    if sum in l:\n",
    "        break\n",
    "    else:\n",
    "        l.append(sum)\n",
    "        num=sum\n",
    "if l[len(l)-1] ==1:\n",
    "    print(\"Happy number\")\n",
    "else:\n",
    "    print(\"Not happy number\")\n",
    "print(l)"
   ]
  },
  {
   "cell_type": "code",
   "execution_count": 45,
   "id": "af08fc56",
   "metadata": {},
   "outputs": [
    {
     "name": "stdout",
     "output_type": "stream",
     "text": [
      "24\n",
      "Not a strong number\n"
     ]
    }
   ],
   "source": [
    "def fac(n):\n",
    "    p=1\n",
    "    for i in range (1,n+1):\n",
    "        p=p*i\n",
    "    return p\n",
    "num=int(input())\n",
    "num1=num\n",
    "sum=0\n",
    "while num>0:\n",
    "    sum=sum+fac(num%10)\n",
    "    num=num//10\n",
    "if sum==num1:\n",
    "    print(\"Strong number\")\n",
    "else :\n",
    "    print(\"Not a strong number\")"
   ]
  },
  {
   "cell_type": "code",
   "execution_count": null,
   "id": "f79c4968",
   "metadata": {},
   "outputs": [],
   "source": [
    "# num>10\n"
   ]
  }
 ],
 "metadata": {
  "kernelspec": {
   "display_name": "Python 3 (ipykernel)",
   "language": "python",
   "name": "python3"
  },
  "language_info": {
   "codemirror_mode": {
    "name": "ipython",
    "version": 3
   },
   "file_extension": ".py",
   "mimetype": "text/x-python",
   "name": "python",
   "nbconvert_exporter": "python",
   "pygments_lexer": "ipython3",
   "version": "3.10.9"
  }
 },
 "nbformat": 4,
 "nbformat_minor": 5
}
