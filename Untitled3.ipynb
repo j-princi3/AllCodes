{
 "cells": [
  {
   "cell_type": "code",
   "execution_count": 3,
   "id": "7517bb8e",
   "metadata": {},
   "outputs": [
    {
     "name": "stdout",
     "output_type": "stream",
     "text": [
      "Matrix: [[1 2]\n",
      " [3 4]]\n",
      "The given matrix is a square matrix\n"
     ]
    }
   ],
   "source": [
    "import numpy as ny\n",
    "a=ny.array([[1,2],[3,4]])\n",
    "flag=0\n",
    "for i in a:\n",
    "    count=len(i)\n",
    "    if count!=len(a):\n",
    "        flag=1\n",
    "        break\n",
    "print(\"Matrix:\",a)\n",
    "if flag==0:\n",
    "    print(\"The given matrix is a square matrix\")\n",
    "else:\n",
    "    print(\"The given matrix is not a square matrix\")"
   ]
  },
  {
   "cell_type": "code",
   "execution_count": 4,
   "id": "85aef3e1",
   "metadata": {},
   "outputs": [
    {
     "name": "stdout",
     "output_type": "stream",
     "text": [
      "5\n"
     ]
    }
   ],
   "source": [
    "import numpy as np\n",
    "a=np.array([[1,2],[3,4]])\n",
    "t=np.trace(a)\n",
    "print(t)"
   ]
  },
  {
   "cell_type": "code",
   "execution_count": 5,
   "id": "17f0df26",
   "metadata": {},
   "outputs": [
    {
     "name": "stdout",
     "output_type": "stream",
     "text": [
      "3\n",
      "{1: {'sex': 'Male', 'name': 'John', 'age': '27'}, 2: {'sex': 'Female', 'name': 'Marie', 'age': '22'}, 3: {'sex': 'Female', 'name': 'Luna', 'age': '24'}}\n"
     ]
    }
   ],
   "source": [
    "dic={1: {'sex': 'Male', 'name': 'John', 'age': '27'}, 2: {'sex': 'Female', 'name': 'Marie', 'age': '22'}}\n",
    "n=len(dic)+1\n",
    "print(n)\n",
    "info=['sex','name','age']\n",
    "detail=['Female','Luna','24']\n",
    "dic[n]={}\n",
    "for i in range(0,3):\n",
    "    dic[n][info[i]]=detail[i]\n",
    "print(dic)"
   ]
  },
  {
   "cell_type": "code",
   "execution_count": 29,
   "id": "f8e12bc7",
   "metadata": {},
   "outputs": [
    {
     "name": "stdout",
     "output_type": "stream",
     "text": [
      "2\n",
      "5\n",
      "3\n",
      "[0, 1, 6]\n"
     ]
    }
   ],
   "source": [
    "d1={2:8,5:20,3:15}\n",
    "for i in d1:\n",
    "    print(i)\n",
    "l=[1,6,0]\n",
    "l=sorted(l)\n",
    "print(l)"
   ]
  },
  {
   "cell_type": "code",
   "execution_count": 4,
   "id": "0a935ba7",
   "metadata": {},
   "outputs": [
    {
     "name": "stdout",
     "output_type": "stream",
     "text": [
      "enter a number1:12\n",
      "enter a number2:14\n",
      "LCM of  12 and 14 is ..\n",
      "168\n"
     ]
    }
   ],
   "source": [
    "n1=int(input(\"enter a number1:\"))\n",
    "n2=int(input(\"enter a number2:\"))\n",
    "print(\"LCM of \",n1,\"and\",n2,\"is\",end=\" \")\n",
    "lcm=1\n",
    "if n1>=n2:\n",
    "    print(\".\")\n",
    "    for i in range(n2,2):\n",
    "        if n2%i==0 and n1%i==0:\n",
    "            print(i)\n",
    "            n2=n2//i\n",
    "            n1=n1//i\n",
    "            lcm*=i\n",
    "            print(n2,n1)\n",
    "else:\n",
    "    print(\"..\")\n",
    "    while n1>=2:\n",
    "        if n2%i==0 and n1%i==0:\n",
    "            print(i)\n",
    "            n2=n2//i\n",
    "            n1=n1//i\n",
    "            lcm*=i\n",
    "            print(n2,n1)\n",
    "print(lcm*n1*n2)"
   ]
  },
  {
   "cell_type": "code",
   "execution_count": 8,
   "id": "f6a5c31b",
   "metadata": {},
   "outputs": [
    {
     "name": "stdout",
     "output_type": "stream",
     "text": [
      "enter number 10 :1\n"
     ]
    }
   ],
   "source": [
    "print(\"enter number\",\"10\",\":\",end=\"\")\n",
    "k=int(input())"
   ]
  },
  {
   "cell_type": "code",
   "execution_count": 11,
   "id": "e177867c",
   "metadata": {},
   "outputs": [
    {
     "name": "stdout",
     "output_type": "stream",
     "text": [
      "enter the number of elements:4\n",
      "enter number 4 :8\n",
      "enter number 4 :4\n",
      "enter number 4 :9\n",
      "enter number 4 :1\n",
      "9\n"
     ]
    }
   ],
   "source": [
    "n=int(input(\"enter the number of elements:\"))\n",
    "p=[]\n",
    "for i in range(1,n+1):\n",
    "    print(\"enter number\",n,\":\",end=\"\")\n",
    "    k=int(input())\n",
    "    p.append(k)\n",
    "p.sort()\n",
    "print(p[len(p)-1])"
   ]
  },
  {
   "cell_type": "code",
   "execution_count": 2,
   "id": "2b24f894",
   "metadata": {},
   "outputs": [
    {
     "name": "stdout",
     "output_type": "stream",
     "text": [
      "enter the min value:5\n",
      "enter the max value:10\n",
      "5 7 \n",
      "sum= 12\n"
     ]
    }
   ],
   "source": [
    "min=int(input(\"enter the min value:\"))\n",
    "max=int(input(\"enter the max value:\"))\n",
    "p=[]\n",
    "sum=0\n",
    "for i in range (min,max+1):\n",
    "    flag=1\n",
    "    for j in range (2,i):\n",
    "        if i%j==0:\n",
    "            flag=0\n",
    "            break\n",
    "    if flag==1:\n",
    "        p.append(i)\n",
    "        sum+=i\n",
    "for k in p:\n",
    "    print(k,end=\" \")\n",
    "print()\n",
    "print(\"sum=\",sum)"
   ]
  },
  {
   "cell_type": "code",
   "execution_count": 3,
   "id": "50fc969f",
   "metadata": {},
   "outputs": [
    {
     "name": "stdout",
     "output_type": "stream",
     "text": [
      "Enter a list element separated by spacelkjhgfdvbnkjhg ouiughjk\n"
     ]
    }
   ],
   "source": [
    "n=input(\"Enter a list element separated by space\")\n",
    "for i in n:\n",
    "    count=0\n",
    "    if i!=\" \":\n",
    "        count+=1\n",
    "    "
   ]
  },
  {
   "cell_type": "code",
   "execution_count": 6,
   "id": "412ce12a",
   "metadata": {},
   "outputs": [
    {
     "name": "stdout",
     "output_type": "stream",
     "text": [
      "1\n",
      "[1 4 7 0]\n",
      "[]\n"
     ]
    }
   ],
   "source": [
    "import numpy as np\n",
    "a=np.array([[1,2,3,0],[4,5,6,0],[7,8,0,9],[0,9,8,7]])\n",
    "print(a[0,0])\n",
    "print(a[:,0])\n",
    "print(a[2:0,2:0])"
   ]
  },
  {
   "cell_type": "code",
   "execution_count": null,
   "id": "e378834f",
   "metadata": {},
   "outputs": [],
   "source": []
  }
 ],
 "metadata": {
  "kernelspec": {
   "display_name": "Python 3 (ipykernel)",
   "language": "python",
   "name": "python3"
  },
  "language_info": {
   "codemirror_mode": {
    "name": "ipython",
    "version": 3
   },
   "file_extension": ".py",
   "mimetype": "text/x-python",
   "name": "python",
   "nbconvert_exporter": "python",
   "pygments_lexer": "ipython3",
   "version": "3.10.9"
  }
 },
 "nbformat": 4,
 "nbformat_minor": 5
}
