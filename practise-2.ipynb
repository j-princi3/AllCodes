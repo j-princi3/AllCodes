{
 "cells": [
  {
   "cell_type": "code",
   "execution_count": 2,
   "id": "561e852b",
   "metadata": {},
   "outputs": [
    {
     "name": "stdout",
     "output_type": "stream",
     "text": [
      "[1, 1, 3, 3, 5, 5, 7, 7, 9, 9]\n"
     ]
    }
   ],
   "source": [
    "def merge_sorted_arrays(arr1, arr2):\n",
    "    merged_array = []\n",
    "    i = 0  # Index for arr1\n",
    "    j = 0  # Index for arr2\n",
    "\n",
    "    while i < len(arr1) and j < len(arr2):\n",
    "        if arr1[i] <= arr2[j]:\n",
    "            merged_array.append(arr1[i])\n",
    "            i += 1\n",
    "        else:\n",
    "            merged_array.append(arr2[j])\n",
    "            j += 1\n",
    "\n",
    "    # Add remaining elements from arr1, if any\n",
    "    while i < len(arr1):\n",
    "        merged_array.append(arr1[i])\n",
    "        i += 1\n",
    "\n",
    "    # Add remaining elements from arr2, if any\n",
    "    while j < len(arr2):\n",
    "        merged_array.append(arr2[j])\n",
    "        j += 1\n",
    "\n",
    "    return merged_array\n",
    "\n",
    "\n",
    "# Example usage:\n",
    "array1 = [1, 3, 5, 7, 9]\n",
    "array2 = [1, 3, 5, 7, 9]\n",
    "\n",
    "merged = merge_sorted_arrays(array1, array2)\n",
    "print(merged)"
   ]
  },
  {
   "cell_type": "code",
   "execution_count": 1,
   "id": "5b7763f5",
   "metadata": {},
   "outputs": [
    {
     "name": "stdout",
     "output_type": "stream",
     "text": [
      "Number of unique elements is 5\n",
      "[0, 1, 2, 3, 4, '_', '_', '_', '_', '_', '_', '_']\n"
     ]
    }
   ],
   "source": [
    "def removed(arr):\n",
    "    unique=[]\n",
    "    j=0\n",
    "    count=0\n",
    "    for i in arr:\n",
    "        j=i+1\n",
    "        for j in arr:\n",
    "            if arr[i]==arr[j]:\n",
    "                p=arr[i]\n",
    "                arr.remove(arr[i])\n",
    "                j=j+1\n",
    "        count=count+1\n",
    "        unique.append(p)\n",
    "    print(f\"Number of unique elements is {count}\")\n",
    "    return unique\n",
    "arr=[0,0,1,1,1,1,1,2,2,3,3,4]\n",
    "p=len(arr)\n",
    "lists=removed(arr)\n",
    "for a in range (0,p-len(lists)):\n",
    "    lists.append(\"_\")\n",
    "print(lists)"
   ]
  },
  {
   "cell_type": "code",
   "execution_count": 19,
   "id": "b7533d28",
   "metadata": {},
   "outputs": [
    {
     "name": "stdout",
     "output_type": "stream",
     "text": [
      "[0, 0, 2, 2, 3, 3, 4, '_', '_', '_', '_', '_']\n"
     ]
    }
   ],
   "source": [
    "def remove_value(val,num):\n",
    "    i=0\n",
    "    arr=[]\n",
    "    while i<len(num):\n",
    "        if val!=num[i]:\n",
    "            arr.append(num[i])\n",
    "        i=i+1\n",
    "    j=0\n",
    "    p=len(arr)\n",
    "    while j<len(num)-p:\n",
    "        arr.append(\"_\")\n",
    "        j+=1\n",
    "    return arr\n",
    "num=[0,0,1,1,1,1,1,2,2,3,3,4]\n",
    "val=1\n",
    "print(remove_value(val,num))"
   ]
  },
  {
   "cell_type": "code",
   "execution_count": 26,
   "id": "b1266cf6",
   "metadata": {},
   "outputs": [
    {
     "name": "stdout",
     "output_type": "stream",
     "text": [
      "4\n"
     ]
    }
   ],
   "source": [
    "def element(haystack,needle):\n",
    "    if needle in haystack:\n",
    "        print(haystack.find(needle)+1)\n",
    "haystack=\"butsad\"\n",
    "needle = \"sad\"\n",
    "element(haystack,needle)"
   ]
  },
  {
   "cell_type": "code",
   "execution_count": 10,
   "id": "666083b0",
   "metadata": {},
   "outputs": [
    {
     "name": "stdout",
     "output_type": "stream",
     "text": [
      "1\n"
     ]
    }
   ],
   "source": [
    "nums = [1,3,5,6]\n",
    "target = 2\n",
    "for i in range (0,len(nums)):\n",
    "    if target<=nums[i] :\n",
    "        print(i)\n",
    "        break\n",
    "    elif target>nums[len(nums)-1]:\n",
    "        print(len(nums))\n",
    "        break"
   ]
  },
  {
   "cell_type": "code",
   "execution_count": null,
   "id": "2d1f9d8f",
   "metadata": {},
   "outputs": [],
   "source": []
  }
 ],
 "metadata": {
  "kernelspec": {
   "display_name": "Python 3 (ipykernel)",
   "language": "python",
   "name": "python3"
  },
  "language_info": {
   "codemirror_mode": {
    "name": "ipython",
    "version": 3
   },
   "file_extension": ".py",
   "mimetype": "text/x-python",
   "name": "python",
   "nbconvert_exporter": "python",
   "pygments_lexer": "ipython3",
   "version": "3.10.9"
  }
 },
 "nbformat": 4,
 "nbformat_minor": 5
}
