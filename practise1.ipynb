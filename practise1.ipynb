{
 "cells": [
  {
   "cell_type": "markdown",
   "id": "73136853",
   "metadata": {},
   "source": [
    "# Python"
   ]
  },
  {
   "cell_type": "markdown",
   "id": "0491fb50",
   "metadata": {},
   "source": [
    "## My name"
   ]
  },
  {
   "cell_type": "code",
   "execution_count": 27,
   "id": "9121c026",
   "metadata": {
    "scrolled": true
   },
   "outputs": [
    {
     "name": "stdout",
     "output_type": "stream",
     "text": [
      "Princi Jain\n"
     ]
    }
   ],
   "source": [
    "print(\"Princi Jain\")\n"
   ]
  },
  {
   "cell_type": "markdown",
   "id": "71e8dcc4",
   "metadata": {},
   "source": [
    "## Key for output"
   ]
  },
  {
   "cell_type": "code",
   "execution_count": 1,
   "id": "12ee37c3",
   "metadata": {},
   "outputs": [
    {
     "name": "stdout",
     "output_type": "stream",
     "text": [
      "Output -shift+enter\n"
     ]
    }
   ],
   "source": [
    "print(\"Output -shift+enter\")"
   ]
  },
  {
   "cell_type": "markdown",
   "id": "626d6745",
   "metadata": {},
   "source": [
    "## sibling"
   ]
  },
  {
   "cell_type": "code",
   "execution_count": 3,
   "id": "57d0d4bd",
   "metadata": {},
   "outputs": [
    {
     "name": "stdout",
     "output_type": "stream",
     "text": [
      "Tanishq Jain\n"
     ]
    }
   ],
   "source": [
    "print(\"Tanishq Jain\")"
   ]
  },
  {
   "cell_type": "code",
   "execution_count": 1,
   "id": "6f9391c2",
   "metadata": {},
   "outputs": [
    {
     "data": {
      "text/plain": [
       "'C:\\\\Users\\\\jainp\\\\python_jupyter'"
      ]
     },
     "execution_count": 1,
     "metadata": {},
     "output_type": "execute_result"
    }
   ],
   "source": [
    "#Find the current working directory\n",
    "import os\n",
    "os.getcwd()"
   ]
  },
  {
   "cell_type": "code",
   "execution_count": 2,
   "id": "f75b8c3c",
   "metadata": {},
   "outputs": [],
   "source": [
    "#Change the directory :\n",
    "os.chdir('C:\\\\Users\\\\jainp\\\\python_jupyter')"
   ]
  },
  {
   "cell_type": "code",
   "execution_count": 1,
   "id": "38f86e2a",
   "metadata": {},
   "outputs": [],
   "source": [
    "class Solution(object):\n",
    "    def twoSum(self, nums, target):\n",
    "\n",
    "        d = {}\n",
    "        i = 0\n",
    "        while i<len(nums):\n",
    "            y = target - nums[i]\n",
    "            if y in d:\n",
    "                ans = {d.get(y), i}\n",
    "                return ans\n",
    "\n",
    "            d[nums[i]] = i\n",
    "            \n",
    "            i+=1 \n",
    "\n",
    "        return []"
   ]
  },
  {
   "cell_type": "code",
   "execution_count": 21,
   "id": "f3b1a296",
   "metadata": {},
   "outputs": [],
   "source": [
    "strs=[\"flower\",\"flow\",\"flight\"]\n",
    "s=strs[0]\n",
    "count=0\n",
    "sub=[]\n",
    "p=1\n",
    "for i in range (1,len(strs)):\n",
    "    if s==strs[i]:\n",
    "        sub.append(strs[i])\n",
    "        count=count+1\n",
    "    else :\n",
    "        s=strs[0][0:len(s)-p]\n",
    "        p=p+1\n",
    "if count==len(strs)-1:\n",
    "    print(sub)"
   ]
  },
  {
   "cell_type": "code",
   "execution_count": 40,
   "id": "81463399",
   "metadata": {},
   "outputs": [
    {
     "ename": "TypeError",
     "evalue": "isValid() missing 1 required positional argument: 's'",
     "output_type": "error",
     "traceback": [
      "\u001b[1;31m---------------------------------------------------------------------------\u001b[0m",
      "\u001b[1;31mTypeError\u001b[0m                                 Traceback (most recent call last)",
      "Cell \u001b[1;32mIn[40], line 18\u001b[0m\n\u001b[0;32m     16\u001b[0m             \u001b[38;5;28;01mreturn\u001b[39;00m \u001b[38;5;124m'\u001b[39m\u001b[38;5;124mfalse\u001b[39m\u001b[38;5;124m'\u001b[39m\n\u001b[0;32m     17\u001b[0m     \u001b[38;5;28;01mreturn\u001b[39;00m \u001b[38;5;124m'\u001b[39m\u001b[38;5;124mtrue\u001b[39m\u001b[38;5;124m'\u001b[39m\n\u001b[1;32m---> 18\u001b[0m \u001b[43misValid\u001b[49m\u001b[43m(\u001b[49m\u001b[38;5;124;43m\"\u001b[39;49m\u001b[38;5;124;43m[}\u001b[39;49m\u001b[38;5;124;43m\"\u001b[39;49m\u001b[43m)\u001b[49m\n",
      "\u001b[1;31mTypeError\u001b[0m: isValid() missing 1 required positional argument: 's'"
     ]
    }
   ],
   "source": [
    "class Solution(object):\n",
    "    def isValid(self, s):\n",
    "        \"\"\"\n",
    "        :type s: str\n",
    "        :rtype: bool\n",
    "        \"\"\"\n",
    "        dic={\"(\":\")\",\"[\":\"]\",\"{\":\"}\"}\n",
    "        i=0\n",
    "        while i<len(s):\n",
    "                if s[i]==\"(\" and s[i+1]==dic[\"(\"]:\n",
    "                    i=i+2\n",
    "                elif s[i]==\"[\" and s[i+1]==dic[\"[\"]:\n",
    "                    i=i+2\n",
    "                elif s[i]==\"{\" and s[i+1]==dic[\"{\"]:\n",
    "                    i=i+2\n",
    "                else:\n",
    "                    return 'false'\n",
    "        return 'true'\n",
    "p=isValid(\"[}\")\n",
    "print()"
   ]
  },
  {
   "cell_type": "code",
   "execution_count": null,
   "id": "6868c4de",
   "metadata": {},
   "outputs": [],
   "source": []
  }
 ],
 "metadata": {
  "kernelspec": {
   "display_name": "Python 3 (ipykernel)",
   "language": "python",
   "name": "python3"
  },
  "language_info": {
   "codemirror_mode": {
    "name": "ipython",
    "version": 3
   },
   "file_extension": ".py",
   "mimetype": "text/x-python",
   "name": "python",
   "nbconvert_exporter": "python",
   "pygments_lexer": "ipython3",
   "version": "3.10.9"
  }
 },
 "nbformat": 4,
 "nbformat_minor": 5
}
