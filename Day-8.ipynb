{
 "cells": [
  {
   "cell_type": "code",
   "execution_count": 13,
   "id": "e4fc023e",
   "metadata": {},
   "outputs": [
    {
     "name": "stdout",
     "output_type": "stream",
     "text": [
      "['abc', 'def', 'ghi', 'abc', 'def']\n",
      "['abc', 'def', 'ghi', 'def']\n",
      "['abc', 'def', 'ghi']\n",
      "['abc', 'def', 'ghi']\n"
     ]
    }
   ],
   "source": [
    "s=['abc','def','abc','ghi','abc','def']\n",
    "i=0\n",
    "l=len(s)\n",
    "while i < len(-1:\n",
    "    j=i+1\n",
    "    while j<l:\n",
    "        if s[i]==s[j]:\n",
    "            s.pop(j)\n",
    "            print(s)\n",
    "        else :\n",
    "            j=j+1\n",
    "    i=i+1\n",
    "print(s)"
   ]
  },
  {
   "cell_type": "code",
   "execution_count": 4,
   "id": "5520768f",
   "metadata": {},
   "outputs": [
    {
     "name": "stdout",
     "output_type": "stream",
     "text": [
      "1\n",
      "2\n",
      "Fizz\n",
      "4\n",
      "Buzz\n",
      "Fizz\n",
      "7\n",
      "8\n",
      "Fizz\n",
      "Buzz\n",
      "11\n",
      "Fizz\n",
      "13\n",
      "14\n",
      "Fizz Buzz\n",
      "16\n",
      "17\n",
      "Fizz\n",
      "19\n",
      "Buzz\n",
      "Fizz\n",
      "22\n",
      "23\n",
      "Fizz\n",
      "Buzz\n",
      "26\n",
      "Fizz\n",
      "28\n",
      "29\n",
      "Fizz Buzz\n",
      "31\n",
      "32\n",
      "Fizz\n",
      "34\n",
      "Buzz\n",
      "Fizz\n",
      "37\n",
      "38\n",
      "Fizz\n",
      "Buzz\n",
      "41\n",
      "Fizz\n",
      "43\n",
      "44\n",
      "Fizz Buzz\n",
      "46\n",
      "47\n",
      "Fizz\n",
      "49\n",
      "Buzz\n",
      "Fizz\n",
      "52\n",
      "53\n",
      "Fizz\n",
      "Buzz\n",
      "56\n",
      "Fizz\n",
      "58\n",
      "59\n",
      "Fizz Buzz\n",
      "61\n",
      "62\n",
      "Fizz\n",
      "64\n",
      "Buzz\n",
      "Fizz\n",
      "67\n",
      "68\n",
      "Fizz\n",
      "Buzz\n",
      "71\n",
      "Fizz\n",
      "73\n",
      "74\n",
      "Fizz Buzz\n",
      "76\n",
      "77\n",
      "Fizz\n",
      "79\n",
      "Buzz\n",
      "Fizz\n",
      "82\n",
      "83\n",
      "Fizz\n",
      "Buzz\n",
      "86\n",
      "Fizz\n",
      "88\n",
      "89\n",
      "Fizz Buzz\n",
      "91\n",
      "92\n",
      "Fizz\n",
      "94\n",
      "Buzz\n",
      "Fizz\n",
      "97\n",
      "98\n",
      "Fizz\n",
      "Buzz\n"
     ]
    }
   ],
   "source": [
    "for i in range (1,101):\n",
    "    if i%3==0 and i%5==0:\n",
    "        print(\"Fizz Buzz\")\n",
    "    elif i%3==0:\n",
    "        print(\"Fizz\")\n",
    "    elif i%5==0:\n",
    "        print(\"Buzz\")\n",
    "    else:\n",
    "        print(i)"
   ]
  },
  {
   "cell_type": "code",
   "execution_count": 5,
   "id": "1c4b8747",
   "metadata": {},
   "outputs": [
    {
     "name": "stdout",
     "output_type": "stream",
     "text": [
      "Enter a number:171\n",
      "It is a Harshad number\n"
     ]
    }
   ],
   "source": [
    "i=int(input(\"Enter a number:\"))\n",
    "n=i\n",
    "s=0\n",
    "while n>0:\n",
    "    r=n%10\n",
    "    s=s+r\n",
    "    n=n//10\n",
    "if i%s==0:\n",
    "    print(\"It is a Harshad number\")\n",
    "else:\n",
    "    print(\"It is not a Harshad number\")"
   ]
  },
  {
   "cell_type": "code",
   "execution_count": 3,
   "id": "d013b39d",
   "metadata": {},
   "outputs": [
    {
     "name": "stdout",
     "output_type": "stream",
     "text": [
      "Enter a number:315\n",
      "[2]\n"
     ]
    }
   ],
   "source": [
    "i=int(input(\"Enter a number:\"))\n",
    "prime=[]\n",
    "flag=1\n",
    "for p in range (2,i):\n",
    "    for k in range (2,p+1):\n",
    "        if i%p==0 :\n",
    "            flag=0\n",
    "        if flag==1:\n",
    "            prime.append(p)\n",
    "print(prime)"
   ]
  },
  {
   "cell_type": "code",
   "execution_count": null,
   "id": "805c8a5d",
   "metadata": {},
   "outputs": [],
   "source": []
  }
 ],
 "metadata": {
  "kernelspec": {
   "display_name": "Python 3 (ipykernel)",
   "language": "python",
   "name": "python3"
  },
  "language_info": {
   "codemirror_mode": {
    "name": "ipython",
    "version": 3
   },
   "file_extension": ".py",
   "mimetype": "text/x-python",
   "name": "python",
   "nbconvert_exporter": "python",
   "pygments_lexer": "ipython3",
   "version": "3.10.9"
  }
 },
 "nbformat": 4,
 "nbformat_minor": 5
}
