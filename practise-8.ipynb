{
 "cells": [
  {
   "cell_type": "code",
   "execution_count": 4,
   "id": "81eca22c",
   "metadata": {},
   "outputs": [
    {
     "name": "stdout",
     "output_type": "stream",
     "text": [
      "Left Rotation  :  ksforGeeksGee\n",
      "Right Rotation :  eksGeeksforGe\n"
     ]
    }
   ],
   "source": [
    "# Input : s = \"GeeksforGeeks\"\n",
    "#         d = 2\n",
    "# Output : Left Rotation  : \"eksforGeeksGe\" \n",
    "#          Right Rotation : \"ksGeeksforGee\"  \n",
    "s = \"GeeksforGeeks\"\n",
    "d = 3\n",
    "left1=s[d:len(s)]\n",
    "left2=s[0:d]\n",
    "print(\"Left Rotation  : \",left1+left2)\n",
    "right1=s[len(s)-d:len(s)]\n",
    "right2=s[0:len(s)-d]\n",
    "print(\"Right Rotation : \",right1+right2)"
   ]
  },
  {
   "cell_type": "code",
   "execution_count": 20,
   "id": "b88c2191",
   "metadata": {},
   "outputs": [
    {
     "name": "stdout",
     "output_type": "stream",
     "text": [
      "yenoh\n",
      "yo\n"
     ]
    }
   ],
   "source": [
    "t=\"honey\"\n",
    "a=t[::-1]\n",
    "print(a)\n",
    "p=t[::-3]\n",
    "print(p)\n",
    "# if t==a:\n",
    "#     print('yes')\n",
    "# else:\n",
    "#     print('no')"
   ]
  },
  {
   "cell_type": "code",
   "execution_count": 26,
   "id": "72da3a31",
   "metadata": {},
   "outputs": [
    {
     "name": "stdout",
     "output_type": "stream",
     "text": [
      "42343674\n",
      "3\n"
     ]
    }
   ],
   "source": [
    "N=input()\n",
    "count=0\n",
    "for i in range(0,len(N)):\n",
    "    if N[i]=='4':\n",
    "        count=count+1\n",
    "print(count)"
   ]
  },
  {
   "cell_type": "code",
   "execution_count": 30,
   "id": "f6883c02",
   "metadata": {},
   "outputs": [
    {
     "name": "stdout",
     "output_type": "stream",
     "text": [
      "9\n",
      "0\n"
     ]
    }
   ],
   "source": [
    "N=input()\n",
    "l=int(N[len(N)-1])\n",
    "f=int(N[0])\n",
    "if l<f:\n",
    "    print(f-l)\n",
    "else:\n",
    "    print(l-f)"
   ]
  },
  {
   "cell_type": "code",
   "execution_count": 13,
   "id": "2c016189",
   "metadata": {},
   "outputs": [
    {
     "name": "stdout",
     "output_type": "stream",
     "text": [
      "1 2 3 4 5 6 6 7 \n",
      "yes\n"
     ]
    }
   ],
   "source": [
    "arr=list(map(int,input().split()))\n",
    "flag=0\n",
    "i=0\n",
    "while i<len(arr):\n",
    "    for j in range (i+1,len(arr)):\n",
    "        if arr[i]==arr[j]:\n",
    "            print(\"yes\")\n",
    "            i=len(arr)\n",
    "            flag=1\n",
    "            break\n",
    "    i+=1\n",
    "if flag==0:\n",
    "    print(\"no\")"
   ]
  },
  {
   "cell_type": "code",
   "execution_count": 17,
   "id": "f23d64f8",
   "metadata": {},
   "outputs": [
    {
     "name": "stdout",
     "output_type": "stream",
     "text": [
      "4\n",
      "18 9 6 3\n",
      "[6, 3, 2, 1]\n"
     ]
    }
   ],
   "source": [
    "N=int(input())\n",
    "count=0\n",
    "arr =list(map(int,input().split()))\n",
    "a=[]\n",
    "arr1=arr.copy()\n",
    "arr=sorted(arr)\n",
    "if arr[0]==1:\n",
    "    print(arr)\n",
    "else:\n",
    "    for i in range(0,len(arr1)):\n",
    "        if arr1[i]%arr[0]==0:\n",
    "            a.append(arr1[i]//arr[0])\n",
    "            count+=1\n",
    "    if count==len(arr):\n",
    "        print(a)\n",
    "    else:\n",
    "        print(arr)"
   ]
  },
  {
   "cell_type": "code",
   "execution_count": 36,
   "id": "6c3139f7",
   "metadata": {},
   "outputs": [
    {
     "name": "stdout",
     "output_type": "stream",
     "text": [
      "5\n",
      "bbbb*bbbb\n",
      "bbb*i*bbb\n",
      "bb*iii*bb\n",
      "b*iiiii*b\n",
      "*********"
     ]
    }
   ],
   "source": [
    "N =int(input())\n",
    "t=N+N-1\n",
    "a=\"\"\n",
    "for i in range (1,N):\n",
    "    for j in range (1,N-i+1):\n",
    "        a=a+\"b\"\n",
    "    if i==1:\n",
    "        a=a+\"*\"\n",
    "    else :\n",
    "        a=a+\"*\"\n",
    "        for k in range(1,t-2*(N-i)-1):\n",
    "            a=a+\"i\"\n",
    "        a=a+\"*\"\n",
    "    for m in range(1,N-i+1):\n",
    "        a=a+\"b\"\n",
    "    print(a)\n",
    "    a=\"\"\n",
    "for n in range (1,t+1):\n",
    "    print(\"*\",end=\"\")"
   ]
  },
  {
   "cell_type": "code",
   "execution_count": 19,
   "id": "2a892b38",
   "metadata": {},
   "outputs": [
    {
     "name": "stdout",
     "output_type": "stream",
     "text": [
      "piuyP1@&\n",
      "invalid\n"
     ]
    }
   ],
   "source": [
    "# 65-90-AZ\n",
    "# 97-122=ab\n",
    "# >>> chr(65)\n",
    "# 'A'\n",
    "# >>> chr(120)\n",
    "# 'x'\n",
    "# >>> chr(ord('S') + 1)\n",
    "# 'T'\n",
    "n=input()\n",
    "j=0\n",
    "flag_e=0\n",
    "flag_num=0\n",
    "flag_az=0\n",
    "flag_za=0\n",
    "while j<len(n):\n",
    "    k=n[j]\n",
    "    i=ord(n[j])\n",
    "    if k==\"*\" or k==\"$\" or k== \"@\":\n",
    "        flag_e=1\n",
    "        j+=1\n",
    "    elif i>=48 and i<=57:\n",
    "        flag_num=1\n",
    "        j+=1\n",
    "    elif i>=65 and i<=90:\n",
    "        flag_az=1\n",
    "        j+=1\n",
    "    elif i>=97 and i<=122:\n",
    "        flag_za=1\n",
    "        j+=1\n",
    "    else:\n",
    "        flag_e=0\n",
    "        print(\"invalid\")\n",
    "        break\n",
    "if flag_e==1 and flag_za==1 and flag_az==1 and flag_num==1:\n",
    "    print(\"valid\")"
   ]
  },
  {
   "cell_type": "code",
   "execution_count": 31,
   "id": "b9774117",
   "metadata": {},
   "outputs": [
    {
     "name": "stdout",
     "output_type": "stream",
     "text": [
      "random elements generated: [1, 2, 9, 5, 10, 6, 3, 8, 1, 0]\n",
      "sorted elements: [0, 1, 1, 2, 3, 5, 6, 8, 9, 10]\n",
      "[10, 9, 8, 6, 5, 0, 1, 1, 2, 3]\n"
     ]
    }
   ],
   "source": [
    "import random\n",
    "a=[]\n",
    "b=[]\n",
    "c=[]\n",
    "for i in range (0,10):\n",
    "    a.append(random.randint(0,10))\n",
    "print(\"random elements generated by the system :\" ,a)\n",
    "a=sorted(a)\n",
    "print(\"sorted elements:\",a)\n",
    "b.append(a[9:4:-1])\n",
    "b.append(a[0:5])\n",
    "for k in b:\n",
    "    for j in k:\n",
    "        c.append(j)\n",
    "print(c)"
   ]
  },
  {
   "cell_type": "code",
   "execution_count": 40,
   "id": "6d7991d4",
   "metadata": {},
   "outputs": [
    {
     "name": "stdout",
     "output_type": "stream",
     "text": [
      "5 4 6 7 2 4 5 7 9 13\n",
      "sorted elements: [2, 4, 4, 5, 5, 6, 7, 7, 9, 13]\n",
      "[13, 9, 7, 7, 6, 2, 4, 4, 5, 5]\n"
     ]
    }
   ],
   "source": [
    "a=[]\n",
    "b=[]\n",
    "c=[]\n",
    "a=list(map(int,input().split()))\n",
    "a=sorted(a)\n",
    "print(\"sorted elements:\",a)\n",
    "if len(a)%2==0:\n",
    "    \n",
    "    b.append(a[len(a)-1:(len(a)//2)-1:-1])\n",
    "    b.append(a[:(len(a)//2)])\n",
    "    for k in b:\n",
    "        for j in k:\n",
    "            c.append(j)\n",
    "    print(c)\n",
    "else:\n",
    "    print(\"enter even number of values\")"
   ]
  },
  {
   "cell_type": "code",
   "execution_count": 5,
   "id": "e8f32698",
   "metadata": {},
   "outputs": [
    {
     "name": "stdout",
     "output_type": "stream",
     "text": [
      "p\n",
      "p\n"
     ]
    }
   ],
   "source": [
    "details=[{\"user_name\":\"princi\",\"password\":\"jain\",\"phone\":\"123456789\",\"fullname\":\"princijain\"},\n",
    "         {\"user_name\":\"princ\",\"password\":\"jai\",\"phone\":\"123456789\",\"fullname\":\"princijai\"}]\n",
    "k=\"1234567890\"\n",
    "for i in details:\n",
    "    if i[\"phone\"]==k:  \n",
    "        print(\"yes\")\n",
    "    else:\n",
    "        print(\"p\")"
   ]
  },
  {
   "cell_type": "code",
   "execution_count": null,
   "id": "b655b797",
   "metadata": {},
   "outputs": [],
   "source": []
  }
 ],
 "metadata": {
  "kernelspec": {
   "display_name": "Python 3 (ipykernel)",
   "language": "python",
   "name": "python3"
  },
  "language_info": {
   "codemirror_mode": {
    "name": "ipython",
    "version": 3
   },
   "file_extension": ".py",
   "mimetype": "text/x-python",
   "name": "python",
   "nbconvert_exporter": "python",
   "pygments_lexer": "ipython3",
   "version": "3.10.9"
  }
 },
 "nbformat": 4,
 "nbformat_minor": 5
}
